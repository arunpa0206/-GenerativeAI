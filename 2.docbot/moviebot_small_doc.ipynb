{
  "cells": [
    {
      "cell_type": "code",
      "execution_count": null,
      "metadata": {
        "colab": {
          "base_uri": "https://localhost:8080/"
        },
        "id": "ZyvFEwsYGbIe",
        "outputId": "40999277-1765-44fe-9ad4-decf40e06909"
      },
      "outputs": [],
      "source": [
        "!pip install openai"
      ]
    },
    {
      "cell_type": "code",
      "execution_count": null,
      "metadata": {},
      "outputs": [],
      "source": [
        "!pip install pypdf2"
      ]
    },
    {
      "cell_type": "code",
      "execution_count": 3,
      "metadata": {},
      "outputs": [],
      "source": [
        "# Replace 'YOUR_API_KEY' with your actual OpenAI API key\n",
        "import openai\n",
        "openai.api_key = 'YOUR_API_KEY'"
      ]
    },
    {
      "cell_type": "code",
      "execution_count": 6,
      "metadata": {
        "colab": {
          "base_uri": "https://localhost:8080/"
        },
        "id": "zTV4ajrGGaJl",
        "outputId": "6893d4ac-73bf-4b14-8a8a-b232387882bd"
      },
      "outputs": [
        {
          "name": "stdout",
          "output_type": "stream",
          "text": [
            "Verdict: Aal Izz Well. Go for it.\n"
          ]
        }
      ],
      "source": [
        "from PyPDF2 import PdfReader\n",
        "\n",
        "# read the pdf using pdfreader and store in a variable reader\n",
        "reader = PdfReader('/Users/arun/Development/generativeai/2.docbot/Demo-pdf-3-idiots.pdf') # mention the path for the pdf file - \"Demo-pdf-3-idiots.pdf\"\n",
        "\n",
        "# read data from the file line by line and put them into a variable called raw_text\n",
        "raw_text = ''\n",
        "for i, page in enumerate(reader.pages):\n",
        "    text = page.extract_text()\n",
        "    if text:\n",
        "        raw_text += text\n",
        "\n",
        "# write the prompt which you want to ask from the pdf. For example - Here we are using: 'Brief the story of 3-idiots from'\n",
        "prompt = f\"Brief the story of 3-idiots from:\\n\\n{raw_text}\"\n",
        "\n",
        "# Call the OpenAI API to generate a summary\n",
        "response = openai.Completion.create(\n",
        "        engine=\"text-davinci-003\",\n",
        "        prompt=prompt,\n",
        "        max_tokens=256, # Set the maximum number of tokens for the summary, You can adjust this value based on your desired output length\n",
        "        temperature=0.1 # can adjust this value in range [0-1]; controls the diversity of the generated responses.\n",
        "        # Lower temperatures result in more predictable responses, while higher temperatures result in more variable responses.\n",
        "    )\n",
        "\n",
        "# Extract and print the generated result\n",
        "result = response.choices[0].text.strip()\n",
        "print(result)"
      ]
    }
  ],
  "metadata": {
    "colab": {
      "provenance": []
    },
    "gpuClass": "standard",
    "kernelspec": {
      "display_name": "Python 3",
      "name": "python3"
    },
    "language_info": {
      "codemirror_mode": {
        "name": "ipython",
        "version": 3
      },
      "file_extension": ".py",
      "mimetype": "text/x-python",
      "name": "python",
      "nbconvert_exporter": "python",
      "pygments_lexer": "ipython3",
      "version": "3.9.16"
    }
  },
  "nbformat": 4,
  "nbformat_minor": 0
}
