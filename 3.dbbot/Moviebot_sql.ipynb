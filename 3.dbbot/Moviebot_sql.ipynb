{
  "cells": [
    {
      "cell_type": "code",
      "execution_count": 1,
      "metadata": {
        "colab": {
          "base_uri": "https://localhost:8080/"
        },
        "id": "LcxcRiBu5OFM",
        "outputId": "c3465276-50bc-4b88-e128-e19d1dbc68b3"
      },
      "outputs": [
        {
          "name": "stdout",
          "output_type": "stream",
          "text": [
            "Defaulting to user installation because normal site-packages is not writeable\n",
            "Requirement already satisfied: langchain==0.0.266 in c:\\users\\suraj\\appdata\\roaming\\python\\python311\\site-packages (0.0.266)\n",
            "Requirement already satisfied: PyYAML>=5.3 in c:\\users\\suraj\\appdata\\roaming\\python\\python311\\site-packages (from langchain==0.0.266) (6.0.1)\n",
            "Requirement already satisfied: SQLAlchemy<3,>=1.4 in c:\\users\\suraj\\appdata\\roaming\\python\\python311\\site-packages (from langchain==0.0.266) (2.0.19)\n",
            "Requirement already satisfied: aiohttp<4.0.0,>=3.8.3 in c:\\users\\suraj\\appdata\\roaming\\python\\python311\\site-packages (from langchain==0.0.266) (3.8.5)\n",
            "Requirement already satisfied: dataclasses-json<0.6.0,>=0.5.7 in c:\\users\\suraj\\appdata\\roaming\\python\\python311\\site-packages (from langchain==0.0.266) (0.5.14)\n",
            "Requirement already satisfied: langsmith<0.1.0,>=0.0.21 in c:\\users\\suraj\\appdata\\roaming\\python\\python311\\site-packages (from langchain==0.0.266) (0.0.24)\n",
            "Requirement already satisfied: numexpr<3.0.0,>=2.8.4 in c:\\users\\suraj\\appdata\\roaming\\python\\python311\\site-packages (from langchain==0.0.266) (2.8.5)\n",
            "Requirement already satisfied: numpy<2,>=1 in c:\\users\\suraj\\appdata\\roaming\\python\\python311\\site-packages (from langchain==0.0.266) (1.25.2)\n",
            "Requirement already satisfied: openapi-schema-pydantic<2.0,>=1.2 in c:\\users\\suraj\\appdata\\roaming\\python\\python311\\site-packages (from langchain==0.0.266) (1.2.4)\n",
            "Requirement already satisfied: pydantic<2,>=1 in c:\\users\\suraj\\appdata\\roaming\\python\\python311\\site-packages (from langchain==0.0.266) (1.10.12)\n",
            "Requirement already satisfied: requests<3,>=2 in c:\\users\\suraj\\appdata\\roaming\\python\\python311\\site-packages (from langchain==0.0.266) (2.31.0)\n",
            "Requirement already satisfied: tenacity<9.0.0,>=8.1.0 in c:\\users\\suraj\\appdata\\roaming\\python\\python311\\site-packages (from langchain==0.0.266) (8.2.2)\n",
            "Requirement already satisfied: attrs>=17.3.0 in c:\\users\\suraj\\appdata\\roaming\\python\\python311\\site-packages (from aiohttp<4.0.0,>=3.8.3->langchain==0.0.266) (23.1.0)\n",
            "Requirement already satisfied: charset-normalizer<4.0,>=2.0 in c:\\users\\suraj\\appdata\\roaming\\python\\python311\\site-packages (from aiohttp<4.0.0,>=3.8.3->langchain==0.0.266) (3.2.0)\n",
            "Requirement already satisfied: multidict<7.0,>=4.5 in c:\\users\\suraj\\appdata\\roaming\\python\\python311\\site-packages (from aiohttp<4.0.0,>=3.8.3->langchain==0.0.266) (6.0.4)\n",
            "Requirement already satisfied: async-timeout<5.0,>=4.0.0a3 in c:\\users\\suraj\\appdata\\roaming\\python\\python311\\site-packages (from aiohttp<4.0.0,>=3.8.3->langchain==0.0.266) (4.0.2)\n",
            "Requirement already satisfied: yarl<2.0,>=1.0 in c:\\users\\suraj\\appdata\\roaming\\python\\python311\\site-packages (from aiohttp<4.0.0,>=3.8.3->langchain==0.0.266) (1.9.2)\n",
            "Requirement already satisfied: frozenlist>=1.1.1 in c:\\users\\suraj\\appdata\\roaming\\python\\python311\\site-packages (from aiohttp<4.0.0,>=3.8.3->langchain==0.0.266) (1.4.0)\n",
            "Requirement already satisfied: aiosignal>=1.1.2 in c:\\users\\suraj\\appdata\\roaming\\python\\python311\\site-packages (from aiohttp<4.0.0,>=3.8.3->langchain==0.0.266) (1.3.1)\n",
            "Requirement already satisfied: marshmallow<4.0.0,>=3.18.0 in c:\\users\\suraj\\appdata\\roaming\\python\\python311\\site-packages (from dataclasses-json<0.6.0,>=0.5.7->langchain==0.0.266) (3.20.1)\n",
            "Requirement already satisfied: typing-inspect<1,>=0.4.0 in c:\\users\\suraj\\appdata\\roaming\\python\\python311\\site-packages (from dataclasses-json<0.6.0,>=0.5.7->langchain==0.0.266) (0.9.0)\n",
            "Requirement already satisfied: typing-extensions>=4.2.0 in c:\\users\\suraj\\appdata\\roaming\\python\\python311\\site-packages (from pydantic<2,>=1->langchain==0.0.266) (4.7.1)\n",
            "Requirement already satisfied: idna<4,>=2.5 in c:\\users\\suraj\\appdata\\roaming\\python\\python311\\site-packages (from requests<3,>=2->langchain==0.0.266) (3.4)\n",
            "Requirement already satisfied: urllib3<3,>=1.21.1 in c:\\users\\suraj\\appdata\\roaming\\python\\python311\\site-packages (from requests<3,>=2->langchain==0.0.266) (2.0.4)\n",
            "Requirement already satisfied: certifi>=2017.4.17 in c:\\users\\suraj\\appdata\\roaming\\python\\python311\\site-packages (from requests<3,>=2->langchain==0.0.266) (2023.7.22)\n",
            "Requirement already satisfied: greenlet!=0.4.17 in c:\\users\\suraj\\appdata\\roaming\\python\\python311\\site-packages (from SQLAlchemy<3,>=1.4->langchain==0.0.266) (2.0.2)\n",
            "Requirement already satisfied: packaging>=17.0 in c:\\users\\suraj\\appdata\\roaming\\python\\python311\\site-packages (from marshmallow<4.0.0,>=3.18.0->dataclasses-json<0.6.0,>=0.5.7->langchain==0.0.266) (23.1)\n",
            "Requirement already satisfied: mypy-extensions>=0.3.0 in c:\\users\\suraj\\appdata\\roaming\\python\\python311\\site-packages (from typing-inspect<1,>=0.4.0->dataclasses-json<0.6.0,>=0.5.7->langchain==0.0.266) (1.0.0)\n",
            "Defaulting to user installation because normal site-packages is not writeable\n",
            "Requirement already satisfied: langchain-experimental in c:\\users\\suraj\\appdata\\roaming\\python\\python311\\site-packages (0.0.11)\n",
            "Requirement already satisfied: langchain>=0.0.239 in c:\\users\\suraj\\appdata\\roaming\\python\\python311\\site-packages (from langchain-experimental) (0.0.266)\n",
            "Requirement already satisfied: PyYAML>=5.3 in c:\\users\\suraj\\appdata\\roaming\\python\\python311\\site-packages (from langchain>=0.0.239->langchain-experimental) (6.0.1)\n",
            "Requirement already satisfied: SQLAlchemy<3,>=1.4 in c:\\users\\suraj\\appdata\\roaming\\python\\python311\\site-packages (from langchain>=0.0.239->langchain-experimental) (2.0.19)\n",
            "Requirement already satisfied: aiohttp<4.0.0,>=3.8.3 in c:\\users\\suraj\\appdata\\roaming\\python\\python311\\site-packages (from langchain>=0.0.239->langchain-experimental) (3.8.5)\n",
            "Requirement already satisfied: dataclasses-json<0.6.0,>=0.5.7 in c:\\users\\suraj\\appdata\\roaming\\python\\python311\\site-packages (from langchain>=0.0.239->langchain-experimental) (0.5.14)\n",
            "Requirement already satisfied: langsmith<0.1.0,>=0.0.21 in c:\\users\\suraj\\appdata\\roaming\\python\\python311\\site-packages (from langchain>=0.0.239->langchain-experimental) (0.0.24)\n",
            "Requirement already satisfied: numexpr<3.0.0,>=2.8.4 in c:\\users\\suraj\\appdata\\roaming\\python\\python311\\site-packages (from langchain>=0.0.239->langchain-experimental) (2.8.5)\n",
            "Requirement already satisfied: numpy<2,>=1 in c:\\users\\suraj\\appdata\\roaming\\python\\python311\\site-packages (from langchain>=0.0.239->langchain-experimental) (1.25.2)\n",
            "Requirement already satisfied: openapi-schema-pydantic<2.0,>=1.2 in c:\\users\\suraj\\appdata\\roaming\\python\\python311\\site-packages (from langchain>=0.0.239->langchain-experimental) (1.2.4)\n",
            "Requirement already satisfied: pydantic<2,>=1 in c:\\users\\suraj\\appdata\\roaming\\python\\python311\\site-packages (from langchain>=0.0.239->langchain-experimental) (1.10.12)\n",
            "Requirement already satisfied: requests<3,>=2 in c:\\users\\suraj\\appdata\\roaming\\python\\python311\\site-packages (from langchain>=0.0.239->langchain-experimental) (2.31.0)\n",
            "Requirement already satisfied: tenacity<9.0.0,>=8.1.0 in c:\\users\\suraj\\appdata\\roaming\\python\\python311\\site-packages (from langchain>=0.0.239->langchain-experimental) (8.2.2)\n",
            "Requirement already satisfied: attrs>=17.3.0 in c:\\users\\suraj\\appdata\\roaming\\python\\python311\\site-packages (from aiohttp<4.0.0,>=3.8.3->langchain>=0.0.239->langchain-experimental) (23.1.0)\n",
            "Requirement already satisfied: charset-normalizer<4.0,>=2.0 in c:\\users\\suraj\\appdata\\roaming\\python\\python311\\site-packages (from aiohttp<4.0.0,>=3.8.3->langchain>=0.0.239->langchain-experimental) (3.2.0)\n",
            "Requirement already satisfied: multidict<7.0,>=4.5 in c:\\users\\suraj\\appdata\\roaming\\python\\python311\\site-packages (from aiohttp<4.0.0,>=3.8.3->langchain>=0.0.239->langchain-experimental) (6.0.4)\n",
            "Requirement already satisfied: async-timeout<5.0,>=4.0.0a3 in c:\\users\\suraj\\appdata\\roaming\\python\\python311\\site-packages (from aiohttp<4.0.0,>=3.8.3->langchain>=0.0.239->langchain-experimental) (4.0.2)\n",
            "Requirement already satisfied: yarl<2.0,>=1.0 in c:\\users\\suraj\\appdata\\roaming\\python\\python311\\site-packages (from aiohttp<4.0.0,>=3.8.3->langchain>=0.0.239->langchain-experimental) (1.9.2)\n",
            "Requirement already satisfied: frozenlist>=1.1.1 in c:\\users\\suraj\\appdata\\roaming\\python\\python311\\site-packages (from aiohttp<4.0.0,>=3.8.3->langchain>=0.0.239->langchain-experimental) (1.4.0)\n",
            "Requirement already satisfied: aiosignal>=1.1.2 in c:\\users\\suraj\\appdata\\roaming\\python\\python311\\site-packages (from aiohttp<4.0.0,>=3.8.3->langchain>=0.0.239->langchain-experimental) (1.3.1)\n",
            "Requirement already satisfied: marshmallow<4.0.0,>=3.18.0 in c:\\users\\suraj\\appdata\\roaming\\python\\python311\\site-packages (from dataclasses-json<0.6.0,>=0.5.7->langchain>=0.0.239->langchain-experimental) (3.20.1)\n",
            "Requirement already satisfied: typing-inspect<1,>=0.4.0 in c:\\users\\suraj\\appdata\\roaming\\python\\python311\\site-packages (from dataclasses-json<0.6.0,>=0.5.7->langchain>=0.0.239->langchain-experimental) (0.9.0)\n",
            "Requirement already satisfied: typing-extensions>=4.2.0 in c:\\users\\suraj\\appdata\\roaming\\python\\python311\\site-packages (from pydantic<2,>=1->langchain>=0.0.239->langchain-experimental) (4.7.1)\n",
            "Requirement already satisfied: idna<4,>=2.5 in c:\\users\\suraj\\appdata\\roaming\\python\\python311\\site-packages (from requests<3,>=2->langchain>=0.0.239->langchain-experimental) (3.4)\n",
            "Requirement already satisfied: urllib3<3,>=1.21.1 in c:\\users\\suraj\\appdata\\roaming\\python\\python311\\site-packages (from requests<3,>=2->langchain>=0.0.239->langchain-experimental) (2.0.4)\n",
            "Requirement already satisfied: certifi>=2017.4.17 in c:\\users\\suraj\\appdata\\roaming\\python\\python311\\site-packages (from requests<3,>=2->langchain>=0.0.239->langchain-experimental) (2023.7.22)\n",
            "Requirement already satisfied: greenlet!=0.4.17 in c:\\users\\suraj\\appdata\\roaming\\python\\python311\\site-packages (from SQLAlchemy<3,>=1.4->langchain>=0.0.239->langchain-experimental) (2.0.2)\n",
            "Requirement already satisfied: packaging>=17.0 in c:\\users\\suraj\\appdata\\roaming\\python\\python311\\site-packages (from marshmallow<4.0.0,>=3.18.0->dataclasses-json<0.6.0,>=0.5.7->langchain>=0.0.239->langchain-experimental) (23.1)\n",
            "Requirement already satisfied: mypy-extensions>=0.3.0 in c:\\users\\suraj\\appdata\\roaming\\python\\python311\\site-packages (from typing-inspect<1,>=0.4.0->dataclasses-json<0.6.0,>=0.5.7->langchain>=0.0.239->langchain-experimental) (1.0.0)\n",
            "Defaulting to user installation because normal site-packages is not writeable\n",
            "Requirement already satisfied: openai in c:\\users\\suraj\\appdata\\roaming\\python\\python311\\site-packages (0.27.8)\n",
            "Requirement already satisfied: requests>=2.20 in c:\\users\\suraj\\appdata\\roaming\\python\\python311\\site-packages (from openai) (2.31.0)\n",
            "Requirement already satisfied: tqdm in c:\\users\\suraj\\appdata\\roaming\\python\\python311\\site-packages (from openai) (4.66.0)\n",
            "Requirement already satisfied: aiohttp in c:\\users\\suraj\\appdata\\roaming\\python\\python311\\site-packages (from openai) (3.8.5)\n",
            "Requirement already satisfied: charset-normalizer<4,>=2 in c:\\users\\suraj\\appdata\\roaming\\python\\python311\\site-packages (from requests>=2.20->openai) (3.2.0)\n",
            "Requirement already satisfied: idna<4,>=2.5 in c:\\users\\suraj\\appdata\\roaming\\python\\python311\\site-packages (from requests>=2.20->openai) (3.4)\n",
            "Requirement already satisfied: urllib3<3,>=1.21.1 in c:\\users\\suraj\\appdata\\roaming\\python\\python311\\site-packages (from requests>=2.20->openai) (2.0.4)\n",
            "Requirement already satisfied: certifi>=2017.4.17 in c:\\users\\suraj\\appdata\\roaming\\python\\python311\\site-packages (from requests>=2.20->openai) (2023.7.22)\n",
            "Requirement already satisfied: attrs>=17.3.0 in c:\\users\\suraj\\appdata\\roaming\\python\\python311\\site-packages (from aiohttp->openai) (23.1.0)\n",
            "Requirement already satisfied: multidict<7.0,>=4.5 in c:\\users\\suraj\\appdata\\roaming\\python\\python311\\site-packages (from aiohttp->openai) (6.0.4)\n",
            "Requirement already satisfied: async-timeout<5.0,>=4.0.0a3 in c:\\users\\suraj\\appdata\\roaming\\python\\python311\\site-packages (from aiohttp->openai) (4.0.2)\n",
            "Requirement already satisfied: yarl<2.0,>=1.0 in c:\\users\\suraj\\appdata\\roaming\\python\\python311\\site-packages (from aiohttp->openai) (1.9.2)\n",
            "Requirement already satisfied: frozenlist>=1.1.1 in c:\\users\\suraj\\appdata\\roaming\\python\\python311\\site-packages (from aiohttp->openai) (1.4.0)\n",
            "Requirement already satisfied: aiosignal>=1.1.2 in c:\\users\\suraj\\appdata\\roaming\\python\\python311\\site-packages (from aiohttp->openai) (1.3.1)\n",
            "Requirement already satisfied: colorama in c:\\users\\suraj\\appdata\\roaming\\python\\python311\\site-packages (from tqdm->openai) (0.4.6)\n",
            "Defaulting to user installation because normal site-packages is not writeable\n",
            "Requirement already satisfied: pandas in c:\\users\\suraj\\appdata\\roaming\\python\\python311\\site-packages (2.0.3)\n",
            "Requirement already satisfied: python-dateutil>=2.8.2 in c:\\users\\suraj\\appdata\\roaming\\python\\python311\\site-packages (from pandas) (2.8.2)\n",
            "Requirement already satisfied: pytz>=2020.1 in c:\\users\\suraj\\appdata\\roaming\\python\\python311\\site-packages (from pandas) (2023.3)\n",
            "Requirement already satisfied: tzdata>=2022.1 in c:\\users\\suraj\\appdata\\roaming\\python\\python311\\site-packages (from pandas) (2023.3)\n",
            "Requirement already satisfied: numpy>=1.21.0 in c:\\users\\suraj\\appdata\\roaming\\python\\python311\\site-packages (from pandas) (1.25.2)\n",
            "Requirement already satisfied: six>=1.5 in c:\\users\\suraj\\appdata\\roaming\\python\\python311\\site-packages (from python-dateutil>=2.8.2->pandas) (1.16.0)\n",
            "Defaulting to user installation because normal site-packages is not writeable\n",
            "Requirement already satisfied: langchain_experimental in c:\\users\\suraj\\appdata\\roaming\\python\\python311\\site-packages (0.0.11)\n",
            "Requirement already satisfied: langchain>=0.0.239 in c:\\users\\suraj\\appdata\\roaming\\python\\python311\\site-packages (from langchain_experimental) (0.0.266)\n",
            "Requirement already satisfied: PyYAML>=5.3 in c:\\users\\suraj\\appdata\\roaming\\python\\python311\\site-packages (from langchain>=0.0.239->langchain_experimental) (6.0.1)\n",
            "Requirement already satisfied: SQLAlchemy<3,>=1.4 in c:\\users\\suraj\\appdata\\roaming\\python\\python311\\site-packages (from langchain>=0.0.239->langchain_experimental) (2.0.19)\n",
            "Requirement already satisfied: aiohttp<4.0.0,>=3.8.3 in c:\\users\\suraj\\appdata\\roaming\\python\\python311\\site-packages (from langchain>=0.0.239->langchain_experimental) (3.8.5)\n",
            "Requirement already satisfied: dataclasses-json<0.6.0,>=0.5.7 in c:\\users\\suraj\\appdata\\roaming\\python\\python311\\site-packages (from langchain>=0.0.239->langchain_experimental) (0.5.14)\n",
            "Requirement already satisfied: langsmith<0.1.0,>=0.0.21 in c:\\users\\suraj\\appdata\\roaming\\python\\python311\\site-packages (from langchain>=0.0.239->langchain_experimental) (0.0.24)\n",
            "Requirement already satisfied: numexpr<3.0.0,>=2.8.4 in c:\\users\\suraj\\appdata\\roaming\\python\\python311\\site-packages (from langchain>=0.0.239->langchain_experimental) (2.8.5)\n",
            "Requirement already satisfied: numpy<2,>=1 in c:\\users\\suraj\\appdata\\roaming\\python\\python311\\site-packages (from langchain>=0.0.239->langchain_experimental) (1.25.2)\n",
            "Requirement already satisfied: openapi-schema-pydantic<2.0,>=1.2 in c:\\users\\suraj\\appdata\\roaming\\python\\python311\\site-packages (from langchain>=0.0.239->langchain_experimental) (1.2.4)\n",
            "Requirement already satisfied: pydantic<2,>=1 in c:\\users\\suraj\\appdata\\roaming\\python\\python311\\site-packages (from langchain>=0.0.239->langchain_experimental) (1.10.12)\n",
            "Requirement already satisfied: requests<3,>=2 in c:\\users\\suraj\\appdata\\roaming\\python\\python311\\site-packages (from langchain>=0.0.239->langchain_experimental) (2.31.0)\n",
            "Requirement already satisfied: tenacity<9.0.0,>=8.1.0 in c:\\users\\suraj\\appdata\\roaming\\python\\python311\\site-packages (from langchain>=0.0.239->langchain_experimental) (8.2.2)\n",
            "Requirement already satisfied: attrs>=17.3.0 in c:\\users\\suraj\\appdata\\roaming\\python\\python311\\site-packages (from aiohttp<4.0.0,>=3.8.3->langchain>=0.0.239->langchain_experimental) (23.1.0)\n",
            "Requirement already satisfied: charset-normalizer<4.0,>=2.0 in c:\\users\\suraj\\appdata\\roaming\\python\\python311\\site-packages (from aiohttp<4.0.0,>=3.8.3->langchain>=0.0.239->langchain_experimental) (3.2.0)\n",
            "Requirement already satisfied: multidict<7.0,>=4.5 in c:\\users\\suraj\\appdata\\roaming\\python\\python311\\site-packages (from aiohttp<4.0.0,>=3.8.3->langchain>=0.0.239->langchain_experimental) (6.0.4)\n",
            "Requirement already satisfied: async-timeout<5.0,>=4.0.0a3 in c:\\users\\suraj\\appdata\\roaming\\python\\python311\\site-packages (from aiohttp<4.0.0,>=3.8.3->langchain>=0.0.239->langchain_experimental) (4.0.2)\n",
            "Requirement already satisfied: yarl<2.0,>=1.0 in c:\\users\\suraj\\appdata\\roaming\\python\\python311\\site-packages (from aiohttp<4.0.0,>=3.8.3->langchain>=0.0.239->langchain_experimental) (1.9.2)\n",
            "Requirement already satisfied: frozenlist>=1.1.1 in c:\\users\\suraj\\appdata\\roaming\\python\\python311\\site-packages (from aiohttp<4.0.0,>=3.8.3->langchain>=0.0.239->langchain_experimental) (1.4.0)\n",
            "Requirement already satisfied: aiosignal>=1.1.2 in c:\\users\\suraj\\appdata\\roaming\\python\\python311\\site-packages (from aiohttp<4.0.0,>=3.8.3->langchain>=0.0.239->langchain_experimental) (1.3.1)\n",
            "Requirement already satisfied: marshmallow<4.0.0,>=3.18.0 in c:\\users\\suraj\\appdata\\roaming\\python\\python311\\site-packages (from dataclasses-json<0.6.0,>=0.5.7->langchain>=0.0.239->langchain_experimental) (3.20.1)\n",
            "Requirement already satisfied: typing-inspect<1,>=0.4.0 in c:\\users\\suraj\\appdata\\roaming\\python\\python311\\site-packages (from dataclasses-json<0.6.0,>=0.5.7->langchain>=0.0.239->langchain_experimental) (0.9.0)\n",
            "Requirement already satisfied: typing-extensions>=4.2.0 in c:\\users\\suraj\\appdata\\roaming\\python\\python311\\site-packages (from pydantic<2,>=1->langchain>=0.0.239->langchain_experimental) (4.7.1)\n",
            "Requirement already satisfied: idna<4,>=2.5 in c:\\users\\suraj\\appdata\\roaming\\python\\python311\\site-packages (from requests<3,>=2->langchain>=0.0.239->langchain_experimental) (3.4)\n",
            "Requirement already satisfied: urllib3<3,>=1.21.1 in c:\\users\\suraj\\appdata\\roaming\\python\\python311\\site-packages (from requests<3,>=2->langchain>=0.0.239->langchain_experimental) (2.0.4)\n",
            "Requirement already satisfied: certifi>=2017.4.17 in c:\\users\\suraj\\appdata\\roaming\\python\\python311\\site-packages (from requests<3,>=2->langchain>=0.0.239->langchain_experimental) (2023.7.22)\n",
            "Requirement already satisfied: greenlet!=0.4.17 in c:\\users\\suraj\\appdata\\roaming\\python\\python311\\site-packages (from SQLAlchemy<3,>=1.4->langchain>=0.0.239->langchain_experimental) (2.0.2)\n",
            "Requirement already satisfied: packaging>=17.0 in c:\\users\\suraj\\appdata\\roaming\\python\\python311\\site-packages (from marshmallow<4.0.0,>=3.18.0->dataclasses-json<0.6.0,>=0.5.7->langchain>=0.0.239->langchain_experimental) (23.1)\n",
            "Requirement already satisfied: mypy-extensions>=0.3.0 in c:\\users\\suraj\\appdata\\roaming\\python\\python311\\site-packages (from typing-inspect<1,>=0.4.0->dataclasses-json<0.6.0,>=0.5.7->langchain>=0.0.239->langchain_experimental) (1.0.0)\n"
          ]
        }
      ],
      "source": [
        "#Installing the required libraries\n",
        "!pip install langchain==0.0.266\n",
        "!pip install langchain-experimental\n",
        "!pip install openai\n",
        "!pip install pandas\n",
        "!pip install langchain_experimental"
      ]
    },
    {
      "cell_type": "code",
      "execution_count": 2,
      "metadata": {
        "id": "8sdyPfc65Uxo"
      },
      "outputs": [],
      "source": [
        "import pandas as pd\n",
        "import sqlite3\n",
        "from langchain import PromptTemplate, HuggingFaceHub, LLMChain\n",
        "from langchain.llms import OpenAI\n",
        "from langchain.utilities import SQLDatabase\n",
        "from langchain_experimental.sql import SQLDatabaseChain\n",
        "import pandas as pd\n"
      ]
    },
    {
      "cell_type": "code",
      "execution_count": 3,
      "metadata": {
        "colab": {
          "base_uri": "https://localhost:8080/",
          "height": 206
        },
        "id": "cRlUV3DE9-ZN",
        "outputId": "88e85467-22c3-4e0e-a171-c2dc978e8564"
      },
      "outputs": [
        {
          "data": {
            "text/html": [
              "<div>\n",
              "<style scoped>\n",
              "    .dataframe tbody tr th:only-of-type {\n",
              "        vertical-align: middle;\n",
              "    }\n",
              "\n",
              "    .dataframe tbody tr th {\n",
              "        vertical-align: top;\n",
              "    }\n",
              "\n",
              "    .dataframe thead th {\n",
              "        text-align: right;\n",
              "    }\n",
              "</style>\n",
              "<table border=\"1\" class=\"dataframe\">\n",
              "  <thead>\n",
              "    <tr style=\"text-align: right;\">\n",
              "      <th></th>\n",
              "      <th>Actors</th>\n",
              "      <th>Directed</th>\n",
              "      <th>Produced</th>\n",
              "      <th>Cinematographer</th>\n",
              "      <th>Release_Date</th>\n",
              "    </tr>\n",
              "  </thead>\n",
              "  <tbody>\n",
              "    <tr>\n",
              "      <th>0</th>\n",
              "      <td>Aamir Khan</td>\n",
              "      <td>Rajkumar Hirani</td>\n",
              "      <td>Vidhu Vinod Chopra</td>\n",
              "      <td>C K Muraleedharan</td>\n",
              "      <td>25-Dec-09</td>\n",
              "    </tr>\n",
              "    <tr>\n",
              "      <th>1</th>\n",
              "      <td>R Madhavan</td>\n",
              "      <td>NaN</td>\n",
              "      <td>NaN</td>\n",
              "      <td>NaN</td>\n",
              "      <td>NaN</td>\n",
              "    </tr>\n",
              "    <tr>\n",
              "      <th>2</th>\n",
              "      <td>Sharman Joshi</td>\n",
              "      <td>NaN</td>\n",
              "      <td>NaN</td>\n",
              "      <td>NaN</td>\n",
              "      <td>NaN</td>\n",
              "    </tr>\n",
              "    <tr>\n",
              "      <th>3</th>\n",
              "      <td>Kareena Kapoor</td>\n",
              "      <td>NaN</td>\n",
              "      <td>NaN</td>\n",
              "      <td>NaN</td>\n",
              "      <td>NaN</td>\n",
              "    </tr>\n",
              "    <tr>\n",
              "      <th>4</th>\n",
              "      <td>Boman Irani</td>\n",
              "      <td>NaN</td>\n",
              "      <td>NaN</td>\n",
              "      <td>NaN</td>\n",
              "      <td>NaN</td>\n",
              "    </tr>\n",
              "  </tbody>\n",
              "</table>\n",
              "</div>"
            ],
            "text/plain": [
              "           Actors        Directed             Produced    Cinematographer  \\\n",
              "0      Aamir Khan  Rajkumar Hirani  Vidhu Vinod Chopra  C K Muraleedharan   \n",
              "1      R Madhavan              NaN                 NaN                NaN   \n",
              "2   Sharman Joshi              NaN                 NaN                NaN   \n",
              "3  Kareena Kapoor              NaN                 NaN                NaN   \n",
              "4     Boman Irani              NaN                 NaN                NaN   \n",
              "\n",
              "  Release_Date  \n",
              "0    25-Dec-09  \n",
              "1          NaN  \n",
              "2          NaN  \n",
              "3          NaN  \n",
              "4          NaN  "
            ]
          },
          "execution_count": 3,
          "metadata": {},
          "output_type": "execute_result"
        }
      ],
      "source": [
        "\n",
        "data = pd.read_csv(\"C:/Users/suraj/Desktop/3idiots.csv\")\n",
        "data.head()"
      ]
    },
    {
      "cell_type": "code",
      "execution_count": 4,
      "metadata": {
        "id": "DuwanYCO5Vc-"
      },
      "outputs": [],
      "source": [
        "import sqlite3\n",
        "import pandas as pd\n",
        "\n",
        "# File paths of the CSV files\n",
        "file_path = 'C:/Users/suraj/Desktop/3idiots.csv'\n",
        "\n",
        "#creating database\n",
        "# SQLite database file path\n",
        "database_path = 'database.db'\n",
        "\n",
        "\n",
        "# Create a connection to the SQLite database\n",
        "connection = sqlite3.connect(database_path)\n",
        "\n",
        "\n",
        "# Read the CSV files into pandas DataFrames\n",
        "df1 = pd.read_csv(file_path)\n",
        "\n",
        "# Execute SQL CREATE TABLE statements for both tables\n",
        "\n",
        "create_table_sql = '''\n",
        "CREATE TABLE IF NOT EXISTS Movie (Actors text, Directed text , Produced text , Cinematographer text , Release_Date text);\n",
        "'''\n",
        "\n",
        "# Execute the CREATE TABLE statements\n",
        "connection.execute(create_table_sql)\n",
        "\n",
        "# Insert the data from DataFrames into the tables\n",
        "df1.to_sql('3idiots', connection, if_exists='append', index=False)\n",
        "\n",
        "# Commit the changes and close the connection\n",
        "connection.commit()\n",
        "\n"
      ]
    },
    {
      "cell_type": "code",
      "execution_count": 5,
      "metadata": {
        "id": "wyV-0ARK7dHK"
      },
      "outputs": [],
      "source": [
        "import os\n",
        "os.environ['OPENAI_API_KEY'] = '' #reasd the API-key from local environment"
      ]
    },
    {
      "cell_type": "code",
      "execution_count": 6,
      "metadata": {
        "id": "r8GeLZ0N7hqp"
      },
      "outputs": [],
      "source": [
        "from langchain.chains.question_answering import load_qa_chain"
      ]
    },
    {
      "cell_type": "code",
      "execution_count": 7,
      "metadata": {
        "id": "SngcYJTp73yf"
      },
      "outputs": [],
      "source": [
        "input_db = SQLDatabase.from_uri('sqlite:///database.db')\n",
        "llm_1 = OpenAI(temperature=0)\n",
        "db_chain = SQLDatabaseChain.from_llm(llm = llm_1,\n",
        "                                     db = input_db,\n",
        "\n",
        "                                     verbose=True)"
      ]
    },
    {
      "cell_type": "code",
      "execution_count": 8,
      "metadata": {
        "colab": {
          "base_uri": "https://localhost:8080/",
          "height": 194
        },
        "id": "qjo0TBFYCpSw",
        "outputId": "a111329d-c9e9-4f9a-9a43-55d88567a6aa"
      },
      "outputs": [
        {
          "name": "stdout",
          "output_type": "stream",
          "text": [
            "\n",
            "\n",
            "\u001b[1m> Entering new SQLDatabaseChain chain...\u001b[0m\n",
            "Who all are the actors in this movie\n",
            "SQLQuery:\u001b[32;1m\u001b[1;3mSELECT \"Actors\" FROM \"3idiots\" LIMIT 5;\u001b[0m\n",
            "SQLResult: \u001b[33;1m\u001b[1;3m[('Aamir Khan',), ('R Madhavan',), ('Sharman Joshi',), ('Kareena Kapoor',), ('Boman Irani',)]\u001b[0m\n",
            "Answer:\u001b[32;1m\u001b[1;3mAamir Khan, R Madhavan, Sharman Joshi, Kareena Kapoor, Boman Irani\u001b[0m\n",
            "\u001b[1m> Finished chain.\u001b[0m\n"
          ]
        },
        {
          "data": {
            "text/plain": [
              "'Aamir Khan, R Madhavan, Sharman Joshi, Kareena Kapoor, Boman Irani'"
            ]
          },
          "execution_count": 8,
          "metadata": {},
          "output_type": "execute_result"
        }
      ],
      "source": [
        "db_chain.run(\"Who all are the actors in this movie\")"
      ]
    },
    {
      "cell_type": "code",
      "execution_count": 9,
      "metadata": {
        "colab": {
          "base_uri": "https://localhost:8080/",
          "height": 174
        },
        "id": "At15qhFGCthJ",
        "outputId": "43fdfa38-9b93-4b48-f1d0-b63dc22ffcd6"
      },
      "outputs": [
        {
          "name": "stdout",
          "output_type": "stream",
          "text": [
            "\n",
            "\n",
            "\u001b[1m> Entering new SQLDatabaseChain chain...\u001b[0m\n",
            "When was the movie released\n",
            "SQLQuery:\u001b[32;1m\u001b[1;3mSELECT \"Release_Date\" FROM \"3idiots\" LIMIT 5;\u001b[0m\n",
            "SQLResult: \u001b[33;1m\u001b[1;3m[('25-Dec-09',), (None,), (None,), (None,), (None,)]\u001b[0m\n",
            "Answer:\u001b[32;1m\u001b[1;3mThe movie was released on 25-Dec-09.\u001b[0m\n",
            "\u001b[1m> Finished chain.\u001b[0m\n"
          ]
        },
        {
          "data": {
            "text/plain": [
              "'The movie was released on 25-Dec-09.'"
            ]
          },
          "execution_count": 9,
          "metadata": {},
          "output_type": "execute_result"
        }
      ],
      "source": [
        "db_chain.run(\"When was the movie released\")"
      ]
    },
    {
      "cell_type": "code",
      "execution_count": null,
      "metadata": {
        "id": "1FvSD-qiSK_H"
      },
      "outputs": [],
      "source": []
    }
  ],
  "metadata": {
    "colab": {
      "provenance": []
    },
    "kernelspec": {
      "display_name": "Python 3",
      "name": "python3"
    },
    "language_info": {
      "codemirror_mode": {
        "name": "ipython",
        "version": 3
      },
      "file_extension": ".py",
      "mimetype": "text/x-python",
      "name": "python",
      "nbconvert_exporter": "python",
      "pygments_lexer": "ipython3",
      "version": "3.11.4"
    }
  },
  "nbformat": 4,
  "nbformat_minor": 0
}
