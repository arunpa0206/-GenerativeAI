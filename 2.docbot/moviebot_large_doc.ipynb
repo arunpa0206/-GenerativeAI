{
  "cells": [
    {
      "cell_type": "code",
      "execution_count": 1,
      "metadata": {
        "colab": {
          "base_uri": "https://localhost:8080/"
        },
        "id": "Go0O8gBZ2yjp",
        "outputId": "72a21457-595f-49ff-c6cb-f3fc19017f8e"
      },
      "outputs": [
        {
          "name": "stdout",
          "output_type": "stream",
          "text": [
            "Requirement already satisfied: langchain in /Users/arun/.pyenv/versions/3.9.16/lib/python3.9/site-packages (0.0.274)\n",
            "Requirement already satisfied: SQLAlchemy<3,>=1.4 in /Users/arun/.pyenv/versions/3.9.16/lib/python3.9/site-packages (from langchain) (2.0.20)\n",
            "Requirement already satisfied: numexpr<3.0.0,>=2.8.4 in /Users/arun/.pyenv/versions/3.9.16/lib/python3.9/site-packages (from langchain) (2.8.5)\n",
            "Requirement already satisfied: langsmith<0.1.0,>=0.0.21 in /Users/arun/.pyenv/versions/3.9.16/lib/python3.9/site-packages (from langchain) (0.0.26)\n",
            "Requirement already satisfied: PyYAML>=5.3 in /Users/arun/.pyenv/versions/3.9.16/lib/python3.9/site-packages (from langchain) (6.0.1)\n",
            "Requirement already satisfied: aiohttp<4.0.0,>=3.8.3 in /Users/arun/.pyenv/versions/3.9.16/lib/python3.9/site-packages (from langchain) (3.8.5)\n",
            "Requirement already satisfied: pydantic<3,>=1 in /Users/arun/.pyenv/versions/3.9.16/lib/python3.9/site-packages (from langchain) (2.3.0)\n",
            "Requirement already satisfied: requests<3,>=2 in /Users/arun/.pyenv/versions/3.9.16/lib/python3.9/site-packages (from langchain) (2.31.0)\n",
            "Requirement already satisfied: dataclasses-json<0.6.0,>=0.5.7 in /Users/arun/.pyenv/versions/3.9.16/lib/python3.9/site-packages (from langchain) (0.5.14)\n",
            "Requirement already satisfied: numpy<2,>=1 in /Users/arun/.pyenv/versions/3.9.16/lib/python3.9/site-packages (from langchain) (1.25.2)\n",
            "Requirement already satisfied: tenacity<9.0.0,>=8.1.0 in /Users/arun/.pyenv/versions/3.9.16/lib/python3.9/site-packages (from langchain) (8.2.3)\n",
            "Requirement already satisfied: async-timeout<5.0.0,>=4.0.0 in /Users/arun/.pyenv/versions/3.9.16/lib/python3.9/site-packages (from langchain) (4.0.3)\n",
            "Requirement already satisfied: aiosignal>=1.1.2 in /Users/arun/.pyenv/versions/3.9.16/lib/python3.9/site-packages (from aiohttp<4.0.0,>=3.8.3->langchain) (1.3.1)\n",
            "Requirement already satisfied: frozenlist>=1.1.1 in /Users/arun/.pyenv/versions/3.9.16/lib/python3.9/site-packages (from aiohttp<4.0.0,>=3.8.3->langchain) (1.4.0)\n",
            "Requirement already satisfied: attrs>=17.3.0 in /Users/arun/.pyenv/versions/3.9.16/lib/python3.9/site-packages (from aiohttp<4.0.0,>=3.8.3->langchain) (23.1.0)\n",
            "Requirement already satisfied: charset-normalizer<4.0,>=2.0 in /Users/arun/.pyenv/versions/3.9.16/lib/python3.9/site-packages (from aiohttp<4.0.0,>=3.8.3->langchain) (3.2.0)\n",
            "Requirement already satisfied: yarl<2.0,>=1.0 in /Users/arun/.pyenv/versions/3.9.16/lib/python3.9/site-packages (from aiohttp<4.0.0,>=3.8.3->langchain) (1.9.2)\n",
            "Requirement already satisfied: multidict<7.0,>=4.5 in /Users/arun/.pyenv/versions/3.9.16/lib/python3.9/site-packages (from aiohttp<4.0.0,>=3.8.3->langchain) (6.0.4)\n",
            "Requirement already satisfied: marshmallow<4.0.0,>=3.18.0 in /Users/arun/.pyenv/versions/3.9.16/lib/python3.9/site-packages (from dataclasses-json<0.6.0,>=0.5.7->langchain) (3.20.1)\n",
            "Requirement already satisfied: typing-inspect<1,>=0.4.0 in /Users/arun/.pyenv/versions/3.9.16/lib/python3.9/site-packages (from dataclasses-json<0.6.0,>=0.5.7->langchain) (0.9.0)\n",
            "Requirement already satisfied: pydantic-core==2.6.3 in /Users/arun/.pyenv/versions/3.9.16/lib/python3.9/site-packages (from pydantic<3,>=1->langchain) (2.6.3)\n",
            "Requirement already satisfied: typing-extensions>=4.6.1 in /Users/arun/.pyenv/versions/3.9.16/lib/python3.9/site-packages (from pydantic<3,>=1->langchain) (4.7.1)\n",
            "Requirement already satisfied: annotated-types>=0.4.0 in /Users/arun/.pyenv/versions/3.9.16/lib/python3.9/site-packages (from pydantic<3,>=1->langchain) (0.5.0)\n",
            "Requirement already satisfied: idna<4,>=2.5 in /Users/arun/.pyenv/versions/3.9.16/lib/python3.9/site-packages (from requests<3,>=2->langchain) (3.4)\n",
            "Requirement already satisfied: urllib3<3,>=1.21.1 in /Users/arun/.pyenv/versions/3.9.16/lib/python3.9/site-packages (from requests<3,>=2->langchain) (2.0.4)\n",
            "Requirement already satisfied: certifi>=2017.4.17 in /Users/arun/.pyenv/versions/3.9.16/lib/python3.9/site-packages (from requests<3,>=2->langchain) (2023.7.22)\n",
            "Requirement already satisfied: packaging>=17.0 in /Users/arun/.pyenv/versions/3.9.16/lib/python3.9/site-packages (from marshmallow<4.0.0,>=3.18.0->dataclasses-json<0.6.0,>=0.5.7->langchain) (23.1)\n",
            "Requirement already satisfied: mypy-extensions>=0.3.0 in /Users/arun/.pyenv/versions/3.9.16/lib/python3.9/site-packages (from typing-inspect<1,>=0.4.0->dataclasses-json<0.6.0,>=0.5.7->langchain) (1.0.0)\n",
            "\u001b[33mWARNING: You are using pip version 22.0.4; however, version 23.2.1 is available.\n",
            "You should consider upgrading via the '/Users/arun/.pyenv/versions/3.9.16/bin/python3.9 -m pip install --upgrade pip' command.\u001b[0m\u001b[33m\n",
            "\u001b[0m"
          ]
        }
      ],
      "source": [
        "!pip install langchain"
      ]
    },
    {
      "cell_type": "code",
      "execution_count": 15,
      "metadata": {
        "id": "Zx9z5gvU20gk"
      },
      "outputs": [],
      "source": [
        "from langchain.document_loaders import PyPDFLoader\n",
        "from langchain.text_splitter import CharacterTextSplitter\n",
        "from langchain.vectorstores import Chroma\n",
        "from langchain.embeddings import OpenAIEmbeddings"
      ]
    },
    {
      "cell_type": "code",
      "execution_count": null,
      "metadata": {
        "colab": {
          "base_uri": "https://localhost:8080/"
        },
        "id": "JFviPWsL58qA",
        "outputId": "94d5fac6-648e-4642-f2f0-248b6d9d240a"
      },
      "outputs": [],
      "source": []
    },
    {
      "cell_type": "code",
      "execution_count": 3,
      "metadata": {
        "id": "tDxDGoLz20e0"
      },
      "outputs": [],
      "source": [
        "# Replace 'YOUR_API_KEY' with your actual OpenAI API key\n",
        "import os\n",
        "os.environ['OPENAI_API_KEY'] = 'YOUR_API_KEY' #Sets your ‘OPENAI_API_KEY’ Environment Variable"
      ]
    },
    {
      "cell_type": "code",
      "execution_count": 13,
      "metadata": {
        "colab": {
          "base_uri": "https://localhost:8080/"
        },
        "id": "k-gTmtyV3pG8",
        "outputId": "999e45c4-0a4b-48ce-d211-aa71111066bf"
      },
      "outputs": [
        {
          "name": "stdout",
          "output_type": "stream",
          "text": [
            "Collecting chromadb==0.4.7\n",
            "  Using cached chromadb-0.4.7-py3-none-any.whl (415 kB)\n",
            "Requirement already satisfied: bcrypt>=4.0.1 in /Users/arun/.pyenv/versions/3.9.16/lib/python3.9/site-packages (from chromadb==0.4.7) (4.0.1)\n",
            "Requirement already satisfied: requests>=2.28 in /Users/arun/.pyenv/versions/3.9.16/lib/python3.9/site-packages (from chromadb==0.4.7) (2.31.0)\n",
            "Requirement already satisfied: posthog>=2.4.0 in /Users/arun/.pyenv/versions/3.9.16/lib/python3.9/site-packages (from chromadb==0.4.7) (3.0.2)\n",
            "Requirement already satisfied: pypika>=0.48.9 in /Users/arun/.pyenv/versions/3.9.16/lib/python3.9/site-packages (from chromadb==0.4.7) (0.48.9)\n",
            "Requirement already satisfied: overrides>=7.3.1 in /Users/arun/.pyenv/versions/3.9.16/lib/python3.9/site-packages (from chromadb==0.4.7) (7.4.0)\n",
            "Requirement already satisfied: uvicorn[standard]>=0.18.3 in /Users/arun/.pyenv/versions/3.9.16/lib/python3.9/site-packages (from chromadb==0.4.7) (0.23.2)\n",
            "Requirement already satisfied: chroma-hnswlib==0.7.2 in /Users/arun/.pyenv/versions/3.9.16/lib/python3.9/site-packages (from chromadb==0.4.7) (0.7.2)\n",
            "Requirement already satisfied: pydantic<2.0,>=1.9 in /Users/arun/.pyenv/versions/3.9.16/lib/python3.9/site-packages (from chromadb==0.4.7) (1.10.12)\n",
            "Requirement already satisfied: pulsar-client>=3.1.0 in /Users/arun/.pyenv/versions/3.9.16/lib/python3.9/site-packages (from chromadb==0.4.7) (3.2.0)\n",
            "Requirement already satisfied: importlib-resources in /Users/arun/.pyenv/versions/3.9.16/lib/python3.9/site-packages (from chromadb==0.4.7) (6.0.1)\n",
            "Requirement already satisfied: tokenizers>=0.13.2 in /Users/arun/.pyenv/versions/3.9.16/lib/python3.9/site-packages (from chromadb==0.4.7) (0.13.3)\n",
            "Requirement already satisfied: onnxruntime>=1.14.1 in /Users/arun/.pyenv/versions/3.9.16/lib/python3.9/site-packages (from chromadb==0.4.7) (1.15.1)\n",
            "Requirement already satisfied: numpy>=1.21.6 in /Users/arun/.pyenv/versions/3.9.16/lib/python3.9/site-packages (from chromadb==0.4.7) (1.25.2)\n",
            "Requirement already satisfied: tqdm>=4.65.0 in /Users/arun/.pyenv/versions/3.9.16/lib/python3.9/site-packages (from chromadb==0.4.7) (4.66.1)\n",
            "Requirement already satisfied: typing-extensions>=4.5.0 in /Users/arun/.pyenv/versions/3.9.16/lib/python3.9/site-packages (from chromadb==0.4.7) (4.7.1)\n",
            "Requirement already satisfied: fastapi<0.100.0,>=0.95.2 in /Users/arun/.pyenv/versions/3.9.16/lib/python3.9/site-packages (from chromadb==0.4.7) (0.99.1)\n",
            "Requirement already satisfied: starlette<0.28.0,>=0.27.0 in /Users/arun/.pyenv/versions/3.9.16/lib/python3.9/site-packages (from fastapi<0.100.0,>=0.95.2->chromadb==0.4.7) (0.27.0)\n",
            "Requirement already satisfied: flatbuffers in /Users/arun/.pyenv/versions/3.9.16/lib/python3.9/site-packages (from onnxruntime>=1.14.1->chromadb==0.4.7) (23.5.26)\n",
            "Requirement already satisfied: coloredlogs in /Users/arun/.pyenv/versions/3.9.16/lib/python3.9/site-packages (from onnxruntime>=1.14.1->chromadb==0.4.7) (15.0.1)\n",
            "Requirement already satisfied: packaging in /Users/arun/.pyenv/versions/3.9.16/lib/python3.9/site-packages (from onnxruntime>=1.14.1->chromadb==0.4.7) (23.1)\n",
            "Requirement already satisfied: protobuf in /Users/arun/.pyenv/versions/3.9.16/lib/python3.9/site-packages (from onnxruntime>=1.14.1->chromadb==0.4.7) (4.24.2)\n",
            "Requirement already satisfied: sympy in /Users/arun/.pyenv/versions/3.9.16/lib/python3.9/site-packages (from onnxruntime>=1.14.1->chromadb==0.4.7) (1.12)\n",
            "Requirement already satisfied: six>=1.5 in /Users/arun/.pyenv/versions/3.9.16/lib/python3.9/site-packages (from posthog>=2.4.0->chromadb==0.4.7) (1.16.0)\n",
            "Requirement already satisfied: monotonic>=1.5 in /Users/arun/.pyenv/versions/3.9.16/lib/python3.9/site-packages (from posthog>=2.4.0->chromadb==0.4.7) (1.6)\n",
            "Requirement already satisfied: backoff>=1.10.0 in /Users/arun/.pyenv/versions/3.9.16/lib/python3.9/site-packages (from posthog>=2.4.0->chromadb==0.4.7) (2.2.1)\n",
            "Requirement already satisfied: python-dateutil>2.1 in /Users/arun/.pyenv/versions/3.9.16/lib/python3.9/site-packages (from posthog>=2.4.0->chromadb==0.4.7) (2.8.2)\n",
            "Requirement already satisfied: certifi in /Users/arun/.pyenv/versions/3.9.16/lib/python3.9/site-packages (from pulsar-client>=3.1.0->chromadb==0.4.7) (2023.7.22)\n",
            "Requirement already satisfied: charset-normalizer<4,>=2 in /Users/arun/.pyenv/versions/3.9.16/lib/python3.9/site-packages (from requests>=2.28->chromadb==0.4.7) (3.2.0)\n",
            "Requirement already satisfied: urllib3<3,>=1.21.1 in /Users/arun/.pyenv/versions/3.9.16/lib/python3.9/site-packages (from requests>=2.28->chromadb==0.4.7) (2.0.4)\n",
            "Requirement already satisfied: idna<4,>=2.5 in /Users/arun/.pyenv/versions/3.9.16/lib/python3.9/site-packages (from requests>=2.28->chromadb==0.4.7) (3.4)\n",
            "Requirement already satisfied: click>=7.0 in /Users/arun/.pyenv/versions/3.9.16/lib/python3.9/site-packages (from uvicorn[standard]>=0.18.3->chromadb==0.4.7) (8.1.7)\n",
            "Requirement already satisfied: h11>=0.8 in /Users/arun/.pyenv/versions/3.9.16/lib/python3.9/site-packages (from uvicorn[standard]>=0.18.3->chromadb==0.4.7) (0.14.0)\n",
            "Requirement already satisfied: python-dotenv>=0.13 in /Users/arun/.pyenv/versions/3.9.16/lib/python3.9/site-packages (from uvicorn[standard]>=0.18.3->chromadb==0.4.7) (1.0.0)\n",
            "Requirement already satisfied: uvloop!=0.15.0,!=0.15.1,>=0.14.0 in /Users/arun/.pyenv/versions/3.9.16/lib/python3.9/site-packages (from uvicorn[standard]>=0.18.3->chromadb==0.4.7) (0.17.0)\n",
            "Requirement already satisfied: watchfiles>=0.13 in /Users/arun/.pyenv/versions/3.9.16/lib/python3.9/site-packages (from uvicorn[standard]>=0.18.3->chromadb==0.4.7) (0.20.0)\n",
            "Requirement already satisfied: pyyaml>=5.1 in /Users/arun/.pyenv/versions/3.9.16/lib/python3.9/site-packages (from uvicorn[standard]>=0.18.3->chromadb==0.4.7) (6.0.1)\n",
            "Requirement already satisfied: httptools>=0.5.0 in /Users/arun/.pyenv/versions/3.9.16/lib/python3.9/site-packages (from uvicorn[standard]>=0.18.3->chromadb==0.4.7) (0.6.0)\n",
            "Requirement already satisfied: websockets>=10.4 in /Users/arun/.pyenv/versions/3.9.16/lib/python3.9/site-packages (from uvicorn[standard]>=0.18.3->chromadb==0.4.7) (11.0.3)\n",
            "Requirement already satisfied: zipp>=3.1.0 in /Users/arun/.pyenv/versions/3.9.16/lib/python3.9/site-packages (from importlib-resources->chromadb==0.4.7) (3.16.2)\n",
            "Requirement already satisfied: anyio<5,>=3.4.0 in /Users/arun/.pyenv/versions/3.9.16/lib/python3.9/site-packages (from starlette<0.28.0,>=0.27.0->fastapi<0.100.0,>=0.95.2->chromadb==0.4.7) (3.7.1)\n",
            "Requirement already satisfied: humanfriendly>=9.1 in /Users/arun/.pyenv/versions/3.9.16/lib/python3.9/site-packages (from coloredlogs->onnxruntime>=1.14.1->chromadb==0.4.7) (10.0)\n",
            "Requirement already satisfied: mpmath>=0.19 in /Users/arun/.pyenv/versions/3.9.16/lib/python3.9/site-packages (from sympy->onnxruntime>=1.14.1->chromadb==0.4.7) (1.3.0)\n",
            "Requirement already satisfied: exceptiongroup in /Users/arun/.pyenv/versions/3.9.16/lib/python3.9/site-packages (from anyio<5,>=3.4.0->starlette<0.28.0,>=0.27.0->fastapi<0.100.0,>=0.95.2->chromadb==0.4.7) (1.1.3)\n",
            "Requirement already satisfied: sniffio>=1.1 in /Users/arun/.pyenv/versions/3.9.16/lib/python3.9/site-packages (from anyio<5,>=3.4.0->starlette<0.28.0,>=0.27.0->fastapi<0.100.0,>=0.95.2->chromadb==0.4.7) (1.3.0)\n",
            "Installing collected packages: chromadb\n",
            "  Attempting uninstall: chromadb\n",
            "    Found existing installation: chromadb 0.4.6\n",
            "    Uninstalling chromadb-0.4.6:\n",
            "      Successfully uninstalled chromadb-0.4.6\n",
            "Successfully installed chromadb-0.4.7\n",
            "\u001b[33mWARNING: You are using pip version 22.0.4; however, version 23.2.1 is available.\n",
            "You should consider upgrading via the '/Users/arun/.pyenv/versions/3.9.16/bin/python3.9 -m pip install --upgrade pip' command.\u001b[0m\u001b[33m\n",
            "\u001b[0m"
          ]
        }
      ],
      "source": [
        "!pip install chromadb==0.4.7"
      ]
    },
    {
      "cell_type": "code",
      "execution_count": 14,
      "metadata": {
        "colab": {
          "base_uri": "https://localhost:8080/"
        },
        "id": "0-426cBU3pE3",
        "outputId": "6740adda-967d-476b-bb5a-6ac2b377f9c5"
      },
      "outputs": [
        {
          "name": "stdout",
          "output_type": "stream",
          "text": [
            "Requirement already satisfied: tiktoken in /Users/arun/.pyenv/versions/3.9.16/lib/python3.9/site-packages (0.4.0)\n",
            "Requirement already satisfied: regex>=2022.1.18 in /Users/arun/.pyenv/versions/3.9.16/lib/python3.9/site-packages (from tiktoken) (2023.8.8)\n",
            "Requirement already satisfied: requests>=2.26.0 in /Users/arun/.pyenv/versions/3.9.16/lib/python3.9/site-packages (from tiktoken) (2.31.0)\n",
            "Requirement already satisfied: urllib3<3,>=1.21.1 in /Users/arun/.pyenv/versions/3.9.16/lib/python3.9/site-packages (from requests>=2.26.0->tiktoken) (2.0.4)\n",
            "Requirement already satisfied: certifi>=2017.4.17 in /Users/arun/.pyenv/versions/3.9.16/lib/python3.9/site-packages (from requests>=2.26.0->tiktoken) (2023.7.22)\n",
            "Requirement already satisfied: charset-normalizer<4,>=2 in /Users/arun/.pyenv/versions/3.9.16/lib/python3.9/site-packages (from requests>=2.26.0->tiktoken) (3.2.0)\n",
            "Requirement already satisfied: idna<4,>=2.5 in /Users/arun/.pyenv/versions/3.9.16/lib/python3.9/site-packages (from requests>=2.26.0->tiktoken) (3.4)\n",
            "\u001b[33mWARNING: You are using pip version 22.0.4; however, version 23.2.1 is available.\n",
            "You should consider upgrading via the '/Users/arun/.pyenv/versions/3.9.16/bin/python3.9 -m pip install --upgrade pip' command.\u001b[0m\u001b[33m\n",
            "\u001b[0m"
          ]
        }
      ],
      "source": [
        "!pip install tiktoken"
      ]
    },
    {
      "cell_type": "code",
      "execution_count": 6,
      "metadata": {
        "colab": {
          "base_uri": "https://localhost:8080/"
        },
        "id": "8Z7r176M3pCO",
        "outputId": "4f33879c-c2c3-4b2e-dcc6-7e377c7fa266"
      },
      "outputs": [
        {
          "name": "stdout",
          "output_type": "stream",
          "text": [
            "Requirement already satisfied: openai in /Users/arun/.pyenv/versions/3.9.16/lib/python3.9/site-packages (0.27.9)\n",
            "Requirement already satisfied: requests>=2.20 in /Users/arun/.pyenv/versions/3.9.16/lib/python3.9/site-packages (from openai) (2.31.0)\n",
            "Requirement already satisfied: aiohttp in /Users/arun/.pyenv/versions/3.9.16/lib/python3.9/site-packages (from openai) (3.8.5)\n",
            "Requirement already satisfied: tqdm in /Users/arun/.pyenv/versions/3.9.16/lib/python3.9/site-packages (from openai) (4.66.1)\n",
            "Requirement already satisfied: urllib3<3,>=1.21.1 in /Users/arun/.pyenv/versions/3.9.16/lib/python3.9/site-packages (from requests>=2.20->openai) (2.0.4)\n",
            "Requirement already satisfied: idna<4,>=2.5 in /Users/arun/.pyenv/versions/3.9.16/lib/python3.9/site-packages (from requests>=2.20->openai) (3.4)\n",
            "Requirement already satisfied: certifi>=2017.4.17 in /Users/arun/.pyenv/versions/3.9.16/lib/python3.9/site-packages (from requests>=2.20->openai) (2023.7.22)\n",
            "Requirement already satisfied: charset-normalizer<4,>=2 in /Users/arun/.pyenv/versions/3.9.16/lib/python3.9/site-packages (from requests>=2.20->openai) (3.2.0)\n",
            "Requirement already satisfied: yarl<2.0,>=1.0 in /Users/arun/.pyenv/versions/3.9.16/lib/python3.9/site-packages (from aiohttp->openai) (1.9.2)\n",
            "Requirement already satisfied: async-timeout<5.0,>=4.0.0a3 in /Users/arun/.pyenv/versions/3.9.16/lib/python3.9/site-packages (from aiohttp->openai) (4.0.3)\n",
            "Requirement already satisfied: multidict<7.0,>=4.5 in /Users/arun/.pyenv/versions/3.9.16/lib/python3.9/site-packages (from aiohttp->openai) (6.0.4)\n",
            "Requirement already satisfied: frozenlist>=1.1.1 in /Users/arun/.pyenv/versions/3.9.16/lib/python3.9/site-packages (from aiohttp->openai) (1.4.0)\n",
            "Requirement already satisfied: attrs>=17.3.0 in /Users/arun/.pyenv/versions/3.9.16/lib/python3.9/site-packages (from aiohttp->openai) (23.1.0)\n",
            "Requirement already satisfied: aiosignal>=1.1.2 in /Users/arun/.pyenv/versions/3.9.16/lib/python3.9/site-packages (from aiohttp->openai) (1.3.1)\n",
            "\u001b[33mWARNING: You are using pip version 22.0.4; however, version 23.2.1 is available.\n",
            "You should consider upgrading via the '/Users/arun/.pyenv/versions/3.9.16/bin/python3.9 -m pip install --upgrade pip' command.\u001b[0m\u001b[33m\n",
            "\u001b[0m"
          ]
        }
      ],
      "source": [
        "!pip install openai"
      ]
    },
    {
      "cell_type": "code",
      "execution_count": 7,
      "metadata": {
        "colab": {
          "base_uri": "https://localhost:8080/"
        },
        "id": "DSm-x0Rr6Sr6",
        "outputId": "b3751c5d-9356-41fc-b2af-011eb6942d02"
      },
      "outputs": [
        {
          "name": "stdout",
          "output_type": "stream",
          "text": [
            "Collecting pypdf\n",
            "  Downloading pypdf-3.15.4-py3-none-any.whl (272 kB)\n",
            "\u001b[2K     \u001b[90m━━━━━━━━━━━━━━━━━━━━━━━━━━━━━━━━━━━━━━━\u001b[0m \u001b[32m272.3/272.3 KB\u001b[0m \u001b[31m4.2 MB/s\u001b[0m eta \u001b[36m0:00:00\u001b[0ma \u001b[36m0:00:01\u001b[0m\n",
            "\u001b[?25hRequirement already satisfied: typing_extensions>=3.7.4.3 in /Users/arun/.pyenv/versions/3.9.16/lib/python3.9/site-packages (from pypdf) (4.7.1)\n",
            "Installing collected packages: pypdf\n",
            "Successfully installed pypdf-3.15.4\n",
            "\u001b[33mWARNING: You are using pip version 22.0.4; however, version 23.2.1 is available.\n",
            "You should consider upgrading via the '/Users/arun/.pyenv/versions/3.9.16/bin/python3.9 -m pip install --upgrade pip' command.\u001b[0m\u001b[33m\n",
            "\u001b[0m"
          ]
        }
      ],
      "source": [
        "!pip install pypdf"
      ]
    },
    {
      "cell_type": "code",
      "execution_count": 16,
      "metadata": {
        "colab": {
          "base_uri": "https://localhost:8080/"
        },
        "id": "0R7Vpz2j3o_f",
        "outputId": "8674adab-ccea-4100-eac5-ce621fc32475"
      },
      "outputs": [
        {
          "name": "stderr",
          "output_type": "stream",
          "text": [
            "Created a chunk of size 134, which is longer than the specified 100\n",
            "Created a chunk of size 130, which is longer than the specified 100\n",
            "Created a chunk of size 139, which is longer than the specified 100\n",
            "Created a chunk of size 139, which is longer than the specified 100\n",
            "Created a chunk of size 115, which is longer than the specified 100\n",
            "Created a chunk of size 132, which is longer than the specified 100\n",
            "Created a chunk of size 137, which is longer than the specified 100\n",
            "Created a chunk of size 129, which is longer than the specified 100\n",
            "Created a chunk of size 119, which is longer than the specified 100\n",
            "Created a chunk of size 141, which is longer than the specified 100\n",
            "Created a chunk of size 130, which is longer than the specified 100\n",
            "Created a chunk of size 129, which is longer than the specified 100\n",
            "Created a chunk of size 131, which is longer than the specified 100\n",
            "Created a chunk of size 133, which is longer than the specified 100\n",
            "Created a chunk of size 128, which is longer than the specified 100\n",
            "Created a chunk of size 130, which is longer than the specified 100\n",
            "Created a chunk of size 134, which is longer than the specified 100\n",
            "Created a chunk of size 135, which is longer than the specified 100\n",
            "Created a chunk of size 130, which is longer than the specified 100\n",
            "Created a chunk of size 121, which is longer than the specified 100\n",
            "Created a chunk of size 138, which is longer than the specified 100\n",
            "Created a chunk of size 138, which is longer than the specified 100\n",
            "Created a chunk of size 127, which is longer than the specified 100\n",
            "Created a chunk of size 130, which is longer than the specified 100\n",
            "Created a chunk of size 132, which is longer than the specified 100\n",
            "Created a chunk of size 129, which is longer than the specified 100\n",
            "Created a chunk of size 140, which is longer than the specified 100\n",
            "Created a chunk of size 127, which is longer than the specified 100\n",
            "Created a chunk of size 124, which is longer than the specified 100\n",
            "Created a chunk of size 134, which is longer than the specified 100\n",
            "Created a chunk of size 130, which is longer than the specified 100\n",
            "Created a chunk of size 134, which is longer than the specified 100\n",
            "Created a chunk of size 135, which is longer than the specified 100\n",
            "Created a chunk of size 128, which is longer than the specified 100\n",
            "Created a chunk of size 128, which is longer than the specified 100\n",
            "Created a chunk of size 132, which is longer than the specified 100\n",
            "Created a chunk of size 133, which is longer than the specified 100\n",
            "Created a chunk of size 125, which is longer than the specified 100\n",
            "Created a chunk of size 124, which is longer than the specified 100\n",
            "Created a chunk of size 128, which is longer than the specified 100\n",
            "Created a chunk of size 125, which is longer than the specified 100\n",
            "Created a chunk of size 125, which is longer than the specified 100\n",
            "Created a chunk of size 124, which is longer than the specified 100\n"
          ]
        },
        {
          "name": "stdout",
          "output_type": "stream",
          "text": [
            "Unexpected exception formatting exception. Falling back to standard exception\n"
          ]
        },
        {
          "name": "stderr",
          "output_type": "stream",
          "text": [
            "Traceback (most recent call last):\n",
            "  File \"/Users/arun/.pyenv/versions/3.9.16/lib/python3.9/site-packages/langchain/vectorstores/chroma.py\", line 80, in __init__\n",
            "    import chromadb\n",
            "  File \"/Users/arun/.pyenv/versions/3.9.16/lib/python3.9/site-packages/chromadb/__init__.py\", line 4, in <module>\n",
            "    import chromadb.config\n",
            "  File \"/Users/arun/.pyenv/versions/3.9.16/lib/python3.9/site-packages/chromadb/config.py\", line 12, in <module>\n",
            "    from pydantic import BaseSettings, validator\n",
            "  File \"/Users/arun/.pyenv/versions/3.9.16/lib/python3.9/site-packages/pydantic/__init__.py\", line 210, in __getattr__\n",
            "  File \"/Users/arun/.pyenv/versions/3.9.16/lib/python3.9/site-packages/pydantic/_migration.py\", line 289, in wrapper\n",
            "pydantic.errors.PydanticImportError: `BaseSettings` has been moved to the `pydantic-settings` package. See https://docs.pydantic.dev/2.3/migration/#basesettings-has-moved-to-pydantic-settings for more details.\n",
            "\n",
            "For further information visit https://errors.pydantic.dev/2.3/u/import-error\n",
            "\n",
            "During handling of the above exception, another exception occurred:\n",
            "\n",
            "Traceback (most recent call last):\n",
            "  File \"/Users/arun/.pyenv/versions/3.9.16/lib/python3.9/site-packages/IPython/core/interactiveshell.py\", line 3508, in run_code\n",
            "    exec(code_obj, self.user_global_ns, self.user_ns)\n",
            "  File \"/var/folders/1b/blytqtk17432s78xqkx74sc00000gn/T/ipykernel_28417/2199573209.py\", line 15, in <module>\n",
            "    vectordb = Chroma.from_documents(\n",
            "  File \"/Users/arun/.pyenv/versions/3.9.16/lib/python3.9/site-packages/langchain/vectorstores/chroma.py\", line 612, in from_documents\n",
            "    return cls.from_texts(\n",
            "  File \"/Users/arun/.pyenv/versions/3.9.16/lib/python3.9/site-packages/langchain/vectorstores/chroma.py\", line 567, in from_texts\n",
            "    chroma_collection = cls(\n",
            "  File \"/Users/arun/.pyenv/versions/3.9.16/lib/python3.9/site-packages/langchain/vectorstores/chroma.py\", line 83, in __init__\n",
            "    raise ImportError(\n",
            "ImportError: Could not import chromadb python package. Please install it with `pip install chromadb`.\n",
            "\n",
            "During handling of the above exception, another exception occurred:\n",
            "\n",
            "Traceback (most recent call last):\n",
            "  File \"/Users/arun/.pyenv/versions/3.9.16/lib/python3.9/site-packages/IPython/core/interactiveshell.py\", line 2105, in showtraceback\n",
            "    stb = self.InteractiveTB.structured_traceback(\n",
            "  File \"/Users/arun/.pyenv/versions/3.9.16/lib/python3.9/site-packages/IPython/core/ultratb.py\", line 1428, in structured_traceback\n",
            "    return FormattedTB.structured_traceback(\n",
            "  File \"/Users/arun/.pyenv/versions/3.9.16/lib/python3.9/site-packages/IPython/core/ultratb.py\", line 1319, in structured_traceback\n",
            "    return VerboseTB.structured_traceback(\n",
            "  File \"/Users/arun/.pyenv/versions/3.9.16/lib/python3.9/site-packages/IPython/core/ultratb.py\", line 1191, in structured_traceback\n",
            "    formatted_exceptions += self.format_exception_as_a_whole(etype, evalue, etb, lines_of_context,\n",
            "  File \"/Users/arun/.pyenv/versions/3.9.16/lib/python3.9/site-packages/IPython/core/ultratb.py\", line 1087, in format_exception_as_a_whole\n",
            "    frames.append(self.format_record(record))\n",
            "  File \"/Users/arun/.pyenv/versions/3.9.16/lib/python3.9/site-packages/IPython/core/ultratb.py\", line 969, in format_record\n",
            "    frame_info.lines, Colors, self.has_colors, lvals\n",
            "  File \"/Users/arun/.pyenv/versions/3.9.16/lib/python3.9/site-packages/IPython/core/ultratb.py\", line 792, in lines\n",
            "    return self._sd.lines\n",
            "  File \"/Users/arun/.pyenv/versions/3.9.16/lib/python3.9/site-packages/stack_data/utils.py\", line 144, in cached_property_wrapper\n",
            "    value = obj.__dict__[self.func.__name__] = self.func(obj)\n",
            "  File \"/Users/arun/.pyenv/versions/3.9.16/lib/python3.9/site-packages/stack_data/core.py\", line 734, in lines\n",
            "    pieces = self.included_pieces\n",
            "  File \"/Users/arun/.pyenv/versions/3.9.16/lib/python3.9/site-packages/stack_data/utils.py\", line 144, in cached_property_wrapper\n",
            "    value = obj.__dict__[self.func.__name__] = self.func(obj)\n",
            "  File \"/Users/arun/.pyenv/versions/3.9.16/lib/python3.9/site-packages/stack_data/core.py\", line 681, in included_pieces\n",
            "    pos = scope_pieces.index(self.executing_piece)\n",
            "  File \"/Users/arun/.pyenv/versions/3.9.16/lib/python3.9/site-packages/stack_data/utils.py\", line 144, in cached_property_wrapper\n",
            "    value = obj.__dict__[self.func.__name__] = self.func(obj)\n",
            "  File \"/Users/arun/.pyenv/versions/3.9.16/lib/python3.9/site-packages/stack_data/core.py\", line 660, in executing_piece\n",
            "    return only(\n",
            "  File \"/Users/arun/.pyenv/versions/3.9.16/lib/python3.9/site-packages/executing/executing.py\", line 190, in only\n",
            "    raise NotOneValueFound('Expected one value, found 0')\n",
            "executing.executing.NotOneValueFound: Expected one value, found 0\n"
          ]
        }
      ],
      "source": [
        "# use pypdfloader to load the pdf.\n",
        "loader = PyPDFLoader(\"/Users/arun/Development/generativeai/2.docbot/Demo-pdf-3-idiots.pdf\")\n",
        "documents_ = loader.load_and_split() # This line uses the load_and_split method of the PyPDFLoader to load the PDF document and split its content into smaller text chunks or documents.\n",
        "\n",
        "# using CharacterTextSplitter\n",
        "text_splitter = CharacterTextSplitter(separator=\"\\n\", chunk_size=100, chunk_overlap=20)\n",
        "documents = text_splitter.split_documents(documents_)\n",
        "\n",
        "# Here, a CharacterTextSplitter object is created. This splitter splits the text based on certain parameters:\n",
        "\n",
        "# separator=\"\\n\": It uses newline characters to separate the text chunks.\n",
        "# chunk_size=100: Each text chunk is limited to 100 characters in length.\n",
        "# chunk_overlap=20: There is a 20-character overlap between adjacent chunks.\n",
        "\n",
        "vectordb = Chroma.from_documents(\n",
        "  documents,\n",
        "  embedding=OpenAIEmbeddings(), # It creates a Chroma vector database from the documents variable. It uses an embedding provided by OpenAI to represent the text data as vectors.\n",
        "  persist_directory='./docbot' # This specifies the directory where the vector database should be persisted or saved.\n",
        ")\n",
        "\n",
        "# creates a vector database using Chroma.\n",
        "vectordb.persist()"
      ]
    },
    {
      "cell_type": "code",
      "execution_count": 9,
      "metadata": {
        "colab": {
          "base_uri": "https://localhost:8080/"
        },
        "id": "bcas9lG89aKV",
        "outputId": "1e515bbb-7cd5-423f-b986-7f167828a39c"
      },
      "outputs": [
        {
          "ename": "NameError",
          "evalue": "name 'vectordb' is not defined",
          "output_type": "error",
          "traceback": [
            "\u001b[0;31m---------------------------------------------------------------------------\u001b[0m",
            "\u001b[0;31mNameError\u001b[0m                                 Traceback (most recent call last)",
            "Cell \u001b[0;32mIn[9], line 1\u001b[0m\n\u001b[0;32m----> 1\u001b[0m vectordb\u001b[39m.\u001b[39mget(ids\u001b[39m=\u001b[39m[\u001b[39m'\u001b[39m\u001b[39mdoc0\u001b[39m\u001b[39m'\u001b[39m], include\u001b[39m=\u001b[39m[\u001b[39m'\u001b[39m\u001b[39membeddings\u001b[39m\u001b[39m'\u001b[39m])\n\u001b[1;32m      3\u001b[0m \u001b[39m# it fetches the embeddings (vector representations) for the document with the ID 'doc0' from your vector database (vectordb).\u001b[39;00m\n",
            "\u001b[0;31mNameError\u001b[0m: name 'vectordb' is not defined"
          ]
        }
      ],
      "source": [
        "vectordb.get(ids=['doc0'], include=['embeddings'])\n",
        "\n",
        "# it fetches the embeddings (vector representations) for the document with the ID 'doc0' from your vector database (vectordb)."
      ]
    },
    {
      "cell_type": "code",
      "execution_count": 21,
      "metadata": {
        "id": "V0dgArUy4yRh"
      },
      "outputs": [],
      "source": [
        "from langchain.memory import ConversationSummaryMemory\n",
        "from langchain.chat_models import ChatOpenAI\n",
        "from langchain.chains import ConversationalRetrievalChain"
      ]
    },
    {
      "cell_type": "code",
      "execution_count": 25,
      "metadata": {
        "id": "L-m-3M-P20Q4"
      },
      "outputs": [],
      "source": [
        "llm = ChatOpenAI() #This line of code initializes a ChatGPT model. Here llm stands for \"Large Language Model.\"\n",
        "memory = ConversationSummaryMemory(llm=llm,memory_key=\"chat_history\",return_messages=True)\n",
        "\n",
        "# This memory is designed to store and manage conversation history within a chatbot system. Here's what the parameters mean:\n",
        "\n",
        "# llm=llm: This associates the ChatGPT model (llm) with the conversation memory.\n",
        "# memory_key=\"chat_history\": This specifies a key (or label) for the memory. It's used to identify the conversation history.\n",
        "# return_messages=True: This parameter indicates that the memory should store and return individual messages within the conversation.\n",
        "\n",
        "retriever = vectordb.as_retriever()\n",
        "\n",
        "# This code creates a document retriever from the previously defined vector database (vectordb).\n",
        "# A document retriever is a component that can retrieve documents or information from a database based on certain queries.\n",
        "\n",
        "qa = ConversationalRetrievalChain.from_llm(llm, retriever=retriever, memory=memory)\n",
        "\n",
        "#This code sets up a conversational retrieval chain (qa)."
      ]
    },
    {
      "cell_type": "code",
      "execution_count": 26,
      "metadata": {
        "colab": {
          "base_uri": "https://localhost:8080/"
        },
        "id": "mDdATEJl5SWK",
        "outputId": "64ce1ec7-f769-4c1a-de4a-1cd4a970b75c"
      },
      "outputs": [
        {
          "data": {
            "text/plain": [
              "{'question': 'Brief the story of 3-idiots',\n",
              " 'chat_history': [SystemMessage(content='', additional_kwargs={})],\n",
              " 'answer': 'The story of 3 Idiots revolves around three friends named Rancho, Raju, and Farhan who enroll in an elite engineering college. The film explores their journey and the life lessons they learn along the way that cannot be taught through books. The story begins with their entry into the college and their initial experiences with ragging.'}"
            ]
          },
          "execution_count": 26,
          "metadata": {},
          "output_type": "execute_result"
        }
      ],
      "source": [
        "qa(\"Brief the story of 3-idiots\")\n",
        "\n",
        "# write the query which you want to ask from the pdf. For example - Here we are using: 'Brief the story of 3-idiots'"
      ]
    }
  ],
  "metadata": {
    "colab": {
      "provenance": []
    },
    "kernelspec": {
      "display_name": "Python 3",
      "name": "python3"
    },
    "language_info": {
      "codemirror_mode": {
        "name": "ipython",
        "version": 3
      },
      "file_extension": ".py",
      "mimetype": "text/x-python",
      "name": "python",
      "nbconvert_exporter": "python",
      "pygments_lexer": "ipython3",
      "version": "3.9.16"
    }
  },
  "nbformat": 4,
  "nbformat_minor": 0
}
