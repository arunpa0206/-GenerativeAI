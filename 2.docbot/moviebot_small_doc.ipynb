{
  "nbformat": 4,
  "nbformat_minor": 0,
  "metadata": {
    "colab": {
      "provenance": []
    },
    "kernelspec": {
      "name": "python3",
      "display_name": "Python 3"
    },
    "language_info": {
      "name": "python"
    },
    "gpuClass": "standard"
  },
  "cells": [
    {
      "cell_type": "code",
      "source": [
        "!pip install openai"
      ],
      "metadata": {
        "colab": {
          "base_uri": "https://localhost:8080/"
        },
        "id": "ZyvFEwsYGbIe",
        "outputId": "40999277-1765-44fe-9ad4-decf40e06909"
      },
      "execution_count": 20,
      "outputs": [
        {
          "output_type": "stream",
          "name": "stdout",
          "text": [
            "Requirement already satisfied: openai in /usr/local/lib/python3.10/dist-packages (0.27.8)\n",
            "Requirement already satisfied: requests>=2.20 in /usr/local/lib/python3.10/dist-packages (from openai) (2.31.0)\n",
            "Requirement already satisfied: tqdm in /usr/local/lib/python3.10/dist-packages (from openai) (4.66.1)\n",
            "Requirement already satisfied: aiohttp in /usr/local/lib/python3.10/dist-packages (from openai) (3.8.5)\n",
            "Requirement already satisfied: charset-normalizer<4,>=2 in /usr/local/lib/python3.10/dist-packages (from requests>=2.20->openai) (3.2.0)\n",
            "Requirement already satisfied: idna<4,>=2.5 in /usr/local/lib/python3.10/dist-packages (from requests>=2.20->openai) (3.4)\n",
            "Requirement already satisfied: urllib3<3,>=1.21.1 in /usr/local/lib/python3.10/dist-packages (from requests>=2.20->openai) (2.0.4)\n",
            "Requirement already satisfied: certifi>=2017.4.17 in /usr/local/lib/python3.10/dist-packages (from requests>=2.20->openai) (2023.7.22)\n",
            "Requirement already satisfied: attrs>=17.3.0 in /usr/local/lib/python3.10/dist-packages (from aiohttp->openai) (23.1.0)\n",
            "Requirement already satisfied: multidict<7.0,>=4.5 in /usr/local/lib/python3.10/dist-packages (from aiohttp->openai) (6.0.4)\n",
            "Requirement already satisfied: async-timeout<5.0,>=4.0.0a3 in /usr/local/lib/python3.10/dist-packages (from aiohttp->openai) (4.0.3)\n",
            "Requirement already satisfied: yarl<2.0,>=1.0 in /usr/local/lib/python3.10/dist-packages (from aiohttp->openai) (1.9.2)\n",
            "Requirement already satisfied: frozenlist>=1.1.1 in /usr/local/lib/python3.10/dist-packages (from aiohttp->openai) (1.4.0)\n",
            "Requirement already satisfied: aiosignal>=1.1.2 in /usr/local/lib/python3.10/dist-packages (from aiohttp->openai) (1.3.1)\n"
          ]
        }
      ]
    },
    {
      "cell_type": "code",
      "source": [
        "# mount your google drive on Google colab. Choose the account and click on allow.\n",
        "from google.colab import drive\n",
        "drive.mount('/content/drive')"
      ],
      "metadata": {
        "id": "WaqLOfd0NGLO"
      },
      "execution_count": null,
      "outputs": []
    },
    {
      "cell_type": "code",
      "source": [
        "import openai\n",
        "\n",
        "# Replace 'YOUR_API_KEY' with your actual OpenAI API key\n",
        "import os\n",
        "os.environ['OPENAI_API_KEY'] = 'YOUR_API_KEY'  #Sets your ‘OPENAI_API_KEY’ Environment Variable\n",
        "\n",
        "from PyPDF2 import PdfReader\n",
        "\n",
        "# read the pdf using pdfreader and store in a variable reader\n",
        "reader = PdfReader('/content/drive/MyDrive/Demo-pdf-3-idiots.pdf')\n",
        "\n",
        "# read data from the file line by line and put them into a variable called raw_text\n",
        "raw_text = ''\n",
        "for i, page in enumerate(reader.pages):\n",
        "    text = page.extract_text()\n",
        "    if text:\n",
        "        raw_text += text\n",
        "\n",
        "# write the prompt which you want to ask from the pdf. For example - Here we are using: 'Brief the story of 3-idiots from'\n",
        "prompt = f\"Brief the story of 3-idiots from:\\n\\n{raw_text}\"\n",
        "\n",
        "# Call the OpenAI API to generate a summary\n",
        "response = openai.Completion.create(\n",
        "        engine=\"text-davinci-003\",\n",
        "        prompt=prompt,\n",
        "        max_tokens=256, # Set the maximum number of tokens for the summary, You can adjust this value based on your desired output length\n",
        "        temperature=0.1 # can adjust this value in range [0-1]; controls the diversity of the generated responses.\n",
        "        # Lower temperatures result in more predictable responses, while higher temperatures result in more variable responses.\n",
        "    )\n",
        "\n",
        "# Extract and print the generated result\n",
        "result = response.choices[0].text.strip()\n",
        "print(result)"
      ],
      "metadata": {
        "colab": {
          "base_uri": "https://localhost:8080/"
        },
        "id": "zTV4ajrGGaJl",
        "outputId": "6893d4ac-73bf-4b14-8a8a-b232387882bd"
      },
      "execution_count": 24,
      "outputs": [
        {
          "output_type": "stream",
          "name": "stdout",
          "text": [
            "Verdict: 3 Idiots is a laugh riot, a tear-jerker and a thought-provoker all rolled into one. It is a film that will make you laugh, cry \n",
            "and think. Go for it.\n"
          ]
        }
      ]
    }
  ]
}