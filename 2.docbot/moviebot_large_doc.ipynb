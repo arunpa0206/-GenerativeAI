{
  "cells": [
    {
      "cell_type": "code",
      "execution_count": 1,
      "metadata": {
        "colab": {
          "base_uri": "https://localhost:8080/"
        },
        "id": "vCUUm37zKKdn",
        "outputId": "2e07583a-270d-42ca-9b19-a29f881b4a11"
      },
      "outputs": [
        {
          "name": "stdout",
          "output_type": "stream",
          "text": [
            "Requirement already satisfied: pydantic==1.10.8 in /usr/local/lib/python3.10/dist-packages (1.10.8)\n",
            "Requirement already satisfied: typing-extensions>=4.2.0 in /usr/local/lib/python3.10/dist-packages (from pydantic==1.10.8) (4.7.1)\n"
          ]
        }
      ],
      "source": [
        "!pip install pydantic==1.10.8"
      ]
    },
    {
      "cell_type": "code",
      "execution_count": 2,
      "metadata": {
        "colab": {
          "base_uri": "https://localhost:8080/"
        },
        "id": "uid38ThhZ54y",
        "outputId": "e276e4fe-95f2-4be1-9cb7-e5f7962a7817"
      },
      "outputs": [
        {
          "name": "stdout",
          "output_type": "stream",
          "text": [
            "Requirement already satisfied: langchain==0.0.266 in /usr/local/lib/python3.10/dist-packages (0.0.266)\n",
            "Requirement already satisfied: PyYAML>=5.3 in /usr/local/lib/python3.10/dist-packages (from langchain==0.0.266) (6.0.1)\n",
            "Requirement already satisfied: SQLAlchemy<3,>=1.4 in /usr/local/lib/python3.10/dist-packages (from langchain==0.0.266) (2.0.20)\n",
            "Requirement already satisfied: aiohttp<4.0.0,>=3.8.3 in /usr/local/lib/python3.10/dist-packages (from langchain==0.0.266) (3.8.5)\n",
            "Requirement already satisfied: async-timeout<5.0.0,>=4.0.0 in /usr/local/lib/python3.10/dist-packages (from langchain==0.0.266) (4.0.3)\n",
            "Requirement already satisfied: dataclasses-json<0.6.0,>=0.5.7 in /usr/local/lib/python3.10/dist-packages (from langchain==0.0.266) (0.5.14)\n",
            "Requirement already satisfied: langsmith<0.1.0,>=0.0.21 in /usr/local/lib/python3.10/dist-packages (from langchain==0.0.266) (0.0.27)\n",
            "Requirement already satisfied: numexpr<3.0.0,>=2.8.4 in /usr/local/lib/python3.10/dist-packages (from langchain==0.0.266) (2.8.5)\n",
            "Requirement already satisfied: numpy<2,>=1 in /usr/local/lib/python3.10/dist-packages (from langchain==0.0.266) (1.23.5)\n",
            "Requirement already satisfied: openapi-schema-pydantic<2.0,>=1.2 in /usr/local/lib/python3.10/dist-packages (from langchain==0.0.266) (1.2.4)\n",
            "Requirement already satisfied: pydantic<2,>=1 in /usr/local/lib/python3.10/dist-packages (from langchain==0.0.266) (1.10.8)\n",
            "Requirement already satisfied: requests<3,>=2 in /usr/local/lib/python3.10/dist-packages (from langchain==0.0.266) (2.31.0)\n",
            "Requirement already satisfied: tenacity<9.0.0,>=8.1.0 in /usr/local/lib/python3.10/dist-packages (from langchain==0.0.266) (8.2.3)\n",
            "Requirement already satisfied: attrs>=17.3.0 in /usr/local/lib/python3.10/dist-packages (from aiohttp<4.0.0,>=3.8.3->langchain==0.0.266) (23.1.0)\n",
            "Requirement already satisfied: charset-normalizer<4.0,>=2.0 in /usr/local/lib/python3.10/dist-packages (from aiohttp<4.0.0,>=3.8.3->langchain==0.0.266) (3.2.0)\n",
            "Requirement already satisfied: multidict<7.0,>=4.5 in /usr/local/lib/python3.10/dist-packages (from aiohttp<4.0.0,>=3.8.3->langchain==0.0.266) (6.0.4)\n",
            "Requirement already satisfied: yarl<2.0,>=1.0 in /usr/local/lib/python3.10/dist-packages (from aiohttp<4.0.0,>=3.8.3->langchain==0.0.266) (1.9.2)\n",
            "Requirement already satisfied: frozenlist>=1.1.1 in /usr/local/lib/python3.10/dist-packages (from aiohttp<4.0.0,>=3.8.3->langchain==0.0.266) (1.4.0)\n",
            "Requirement already satisfied: aiosignal>=1.1.2 in /usr/local/lib/python3.10/dist-packages (from aiohttp<4.0.0,>=3.8.3->langchain==0.0.266) (1.3.1)\n",
            "Requirement already satisfied: marshmallow<4.0.0,>=3.18.0 in /usr/local/lib/python3.10/dist-packages (from dataclasses-json<0.6.0,>=0.5.7->langchain==0.0.266) (3.20.1)\n",
            "Requirement already satisfied: typing-inspect<1,>=0.4.0 in /usr/local/lib/python3.10/dist-packages (from dataclasses-json<0.6.0,>=0.5.7->langchain==0.0.266) (0.9.0)\n",
            "Requirement already satisfied: typing-extensions>=4.2.0 in /usr/local/lib/python3.10/dist-packages (from pydantic<2,>=1->langchain==0.0.266) (4.7.1)\n",
            "Requirement already satisfied: idna<4,>=2.5 in /usr/local/lib/python3.10/dist-packages (from requests<3,>=2->langchain==0.0.266) (3.4)\n",
            "Requirement already satisfied: urllib3<3,>=1.21.1 in /usr/local/lib/python3.10/dist-packages (from requests<3,>=2->langchain==0.0.266) (2.0.4)\n",
            "Requirement already satisfied: certifi>=2017.4.17 in /usr/local/lib/python3.10/dist-packages (from requests<3,>=2->langchain==0.0.266) (2023.7.22)\n",
            "Requirement already satisfied: greenlet!=0.4.17 in /usr/local/lib/python3.10/dist-packages (from SQLAlchemy<3,>=1.4->langchain==0.0.266) (2.0.2)\n",
            "Requirement already satisfied: packaging>=17.0 in /usr/local/lib/python3.10/dist-packages (from marshmallow<4.0.0,>=3.18.0->dataclasses-json<0.6.0,>=0.5.7->langchain==0.0.266) (23.1)\n",
            "Requirement already satisfied: mypy-extensions>=0.3.0 in /usr/local/lib/python3.10/dist-packages (from typing-inspect<1,>=0.4.0->dataclasses-json<0.6.0,>=0.5.7->langchain==0.0.266) (1.0.0)\n"
          ]
        }
      ],
      "source": [
        "!pip install langchain==0.0.266"
      ]
    },
    {
      "cell_type": "code",
      "execution_count": 3,
      "metadata": {
        "colab": {
          "base_uri": "https://localhost:8080/"
        },
        "id": "qApNm63S35A3",
        "outputId": "119d7025-1783-42c9-a9e8-1cc6039e24cd"
      },
      "outputs": [
        {
          "name": "stdout",
          "output_type": "stream",
          "text": [
            "Requirement already satisfied: chromadb==0.4.7 in /usr/local/lib/python3.10/dist-packages (0.4.7)\n",
            "Requirement already satisfied: requests>=2.28 in /usr/local/lib/python3.10/dist-packages (from chromadb==0.4.7) (2.31.0)\n",
            "Requirement already satisfied: pydantic<2.0,>=1.9 in /usr/local/lib/python3.10/dist-packages (from chromadb==0.4.7) (1.10.8)\n",
            "Requirement already satisfied: chroma-hnswlib==0.7.2 in /usr/local/lib/python3.10/dist-packages (from chromadb==0.4.7) (0.7.2)\n",
            "Requirement already satisfied: fastapi<0.100.0,>=0.95.2 in /usr/local/lib/python3.10/dist-packages (from chromadb==0.4.7) (0.99.1)\n",
            "Requirement already satisfied: uvicorn[standard]>=0.18.3 in /usr/local/lib/python3.10/dist-packages (from chromadb==0.4.7) (0.23.2)\n",
            "Requirement already satisfied: numpy>=1.21.6 in /usr/local/lib/python3.10/dist-packages (from chromadb==0.4.7) (1.23.5)\n",
            "Requirement already satisfied: posthog>=2.4.0 in /usr/local/lib/python3.10/dist-packages (from chromadb==0.4.7) (3.0.2)\n",
            "Requirement already satisfied: typing-extensions>=4.5.0 in /usr/local/lib/python3.10/dist-packages (from chromadb==0.4.7) (4.7.1)\n",
            "Requirement already satisfied: pulsar-client>=3.1.0 in /usr/local/lib/python3.10/dist-packages (from chromadb==0.4.7) (3.2.0)\n",
            "Requirement already satisfied: onnxruntime>=1.14.1 in /usr/local/lib/python3.10/dist-packages (from chromadb==0.4.7) (1.15.1)\n",
            "Requirement already satisfied: tokenizers>=0.13.2 in /usr/local/lib/python3.10/dist-packages (from chromadb==0.4.7) (0.13.3)\n",
            "Requirement already satisfied: pypika>=0.48.9 in /usr/local/lib/python3.10/dist-packages (from chromadb==0.4.7) (0.48.9)\n",
            "Requirement already satisfied: tqdm>=4.65.0 in /usr/local/lib/python3.10/dist-packages (from chromadb==0.4.7) (4.66.1)\n",
            "Requirement already satisfied: overrides>=7.3.1 in /usr/local/lib/python3.10/dist-packages (from chromadb==0.4.7) (7.4.0)\n",
            "Requirement already satisfied: importlib-resources in /usr/local/lib/python3.10/dist-packages (from chromadb==0.4.7) (6.0.1)\n",
            "Requirement already satisfied: bcrypt>=4.0.1 in /usr/local/lib/python3.10/dist-packages (from chromadb==0.4.7) (4.0.1)\n",
            "Requirement already satisfied: starlette<0.28.0,>=0.27.0 in /usr/local/lib/python3.10/dist-packages (from fastapi<0.100.0,>=0.95.2->chromadb==0.4.7) (0.27.0)\n",
            "Requirement already satisfied: coloredlogs in /usr/local/lib/python3.10/dist-packages (from onnxruntime>=1.14.1->chromadb==0.4.7) (15.0.1)\n",
            "Requirement already satisfied: flatbuffers in /usr/local/lib/python3.10/dist-packages (from onnxruntime>=1.14.1->chromadb==0.4.7) (23.5.26)\n",
            "Requirement already satisfied: packaging in /usr/local/lib/python3.10/dist-packages (from onnxruntime>=1.14.1->chromadb==0.4.7) (23.1)\n",
            "Requirement already satisfied: protobuf in /usr/local/lib/python3.10/dist-packages (from onnxruntime>=1.14.1->chromadb==0.4.7) (3.20.3)\n",
            "Requirement already satisfied: sympy in /usr/local/lib/python3.10/dist-packages (from onnxruntime>=1.14.1->chromadb==0.4.7) (1.12)\n",
            "Requirement already satisfied: six>=1.5 in /usr/local/lib/python3.10/dist-packages (from posthog>=2.4.0->chromadb==0.4.7) (1.16.0)\n",
            "Requirement already satisfied: monotonic>=1.5 in /usr/local/lib/python3.10/dist-packages (from posthog>=2.4.0->chromadb==0.4.7) (1.6)\n",
            "Requirement already satisfied: backoff>=1.10.0 in /usr/local/lib/python3.10/dist-packages (from posthog>=2.4.0->chromadb==0.4.7) (2.2.1)\n",
            "Requirement already satisfied: python-dateutil>2.1 in /usr/local/lib/python3.10/dist-packages (from posthog>=2.4.0->chromadb==0.4.7) (2.8.2)\n",
            "Requirement already satisfied: certifi in /usr/local/lib/python3.10/dist-packages (from pulsar-client>=3.1.0->chromadb==0.4.7) (2023.7.22)\n",
            "Requirement already satisfied: charset-normalizer<4,>=2 in /usr/local/lib/python3.10/dist-packages (from requests>=2.28->chromadb==0.4.7) (3.2.0)\n",
            "Requirement already satisfied: idna<4,>=2.5 in /usr/local/lib/python3.10/dist-packages (from requests>=2.28->chromadb==0.4.7) (3.4)\n",
            "Requirement already satisfied: urllib3<3,>=1.21.1 in /usr/local/lib/python3.10/dist-packages (from requests>=2.28->chromadb==0.4.7) (2.0.4)\n",
            "Requirement already satisfied: click>=7.0 in /usr/local/lib/python3.10/dist-packages (from uvicorn[standard]>=0.18.3->chromadb==0.4.7) (8.1.7)\n",
            "Requirement already satisfied: h11>=0.8 in /usr/local/lib/python3.10/dist-packages (from uvicorn[standard]>=0.18.3->chromadb==0.4.7) (0.14.0)\n",
            "Requirement already satisfied: httptools>=0.5.0 in /usr/local/lib/python3.10/dist-packages (from uvicorn[standard]>=0.18.3->chromadb==0.4.7) (0.6.0)\n",
            "Requirement already satisfied: python-dotenv>=0.13 in /usr/local/lib/python3.10/dist-packages (from uvicorn[standard]>=0.18.3->chromadb==0.4.7) (1.0.0)\n",
            "Requirement already satisfied: pyyaml>=5.1 in /usr/local/lib/python3.10/dist-packages (from uvicorn[standard]>=0.18.3->chromadb==0.4.7) (6.0.1)\n",
            "Requirement already satisfied: uvloop!=0.15.0,!=0.15.1,>=0.14.0 in /usr/local/lib/python3.10/dist-packages (from uvicorn[standard]>=0.18.3->chromadb==0.4.7) (0.17.0)\n",
            "Requirement already satisfied: watchfiles>=0.13 in /usr/local/lib/python3.10/dist-packages (from uvicorn[standard]>=0.18.3->chromadb==0.4.7) (0.20.0)\n",
            "Requirement already satisfied: websockets>=10.4 in /usr/local/lib/python3.10/dist-packages (from uvicorn[standard]>=0.18.3->chromadb==0.4.7) (11.0.3)\n",
            "Requirement already satisfied: anyio<5,>=3.4.0 in /usr/local/lib/python3.10/dist-packages (from starlette<0.28.0,>=0.27.0->fastapi<0.100.0,>=0.95.2->chromadb==0.4.7) (3.7.1)\n",
            "Requirement already satisfied: humanfriendly>=9.1 in /usr/local/lib/python3.10/dist-packages (from coloredlogs->onnxruntime>=1.14.1->chromadb==0.4.7) (10.0)\n",
            "Requirement already satisfied: mpmath>=0.19 in /usr/local/lib/python3.10/dist-packages (from sympy->onnxruntime>=1.14.1->chromadb==0.4.7) (1.3.0)\n",
            "Requirement already satisfied: sniffio>=1.1 in /usr/local/lib/python3.10/dist-packages (from anyio<5,>=3.4.0->starlette<0.28.0,>=0.27.0->fastapi<0.100.0,>=0.95.2->chromadb==0.4.7) (1.3.0)\n",
            "Requirement already satisfied: exceptiongroup in /usr/local/lib/python3.10/dist-packages (from anyio<5,>=3.4.0->starlette<0.28.0,>=0.27.0->fastapi<0.100.0,>=0.95.2->chromadb==0.4.7) (1.1.3)\n"
          ]
        }
      ],
      "source": [
        "!pip install chromadb==0.4.7"
      ]
    },
    {
      "cell_type": "code",
      "execution_count": 4,
      "metadata": {
        "colab": {
          "base_uri": "https://localhost:8080/"
        },
        "id": "0-426cBU3pE3",
        "outputId": "93a85eb2-055d-45c0-8acc-3c787542465f"
      },
      "outputs": [
        {
          "name": "stdout",
          "output_type": "stream",
          "text": [
            "Requirement already satisfied: tiktoken==0.3.0 in /usr/local/lib/python3.10/dist-packages (0.3.0)\n",
            "Requirement already satisfied: blobfile>=2 in /usr/local/lib/python3.10/dist-packages (from tiktoken==0.3.0) (2.0.2)\n",
            "Requirement already satisfied: regex>=2022.1.18 in /usr/local/lib/python3.10/dist-packages (from tiktoken==0.3.0) (2023.6.3)\n",
            "Requirement already satisfied: requests>=2.26.0 in /usr/local/lib/python3.10/dist-packages (from tiktoken==0.3.0) (2.31.0)\n",
            "Requirement already satisfied: pycryptodomex~=3.8 in /usr/local/lib/python3.10/dist-packages (from blobfile>=2->tiktoken==0.3.0) (3.18.0)\n",
            "Requirement already satisfied: urllib3<3,>=1.25.3 in /usr/local/lib/python3.10/dist-packages (from blobfile>=2->tiktoken==0.3.0) (2.0.4)\n",
            "Requirement already satisfied: lxml~=4.9 in /usr/local/lib/python3.10/dist-packages (from blobfile>=2->tiktoken==0.3.0) (4.9.3)\n",
            "Requirement already satisfied: filelock~=3.0 in /usr/local/lib/python3.10/dist-packages (from blobfile>=2->tiktoken==0.3.0) (3.12.2)\n",
            "Requirement already satisfied: charset-normalizer<4,>=2 in /usr/local/lib/python3.10/dist-packages (from requests>=2.26.0->tiktoken==0.3.0) (3.2.0)\n",
            "Requirement already satisfied: idna<4,>=2.5 in /usr/local/lib/python3.10/dist-packages (from requests>=2.26.0->tiktoken==0.3.0) (3.4)\n",
            "Requirement already satisfied: certifi>=2017.4.17 in /usr/local/lib/python3.10/dist-packages (from requests>=2.26.0->tiktoken==0.3.0) (2023.7.22)\n"
          ]
        }
      ],
      "source": [
        "!pip install tiktoken==0.3.0"
      ]
    },
    {
      "cell_type": "code",
      "execution_count": 5,
      "metadata": {
        "colab": {
          "base_uri": "https://localhost:8080/"
        },
        "id": "8Z7r176M3pCO",
        "outputId": "98ed7860-b830-49ad-be33-1a9bc43b5a32"
      },
      "outputs": [
        {
          "name": "stdout",
          "output_type": "stream",
          "text": [
            "Requirement already satisfied: openai==0.27.9 in /usr/local/lib/python3.10/dist-packages (0.27.9)\n",
            "Requirement already satisfied: requests>=2.20 in /usr/local/lib/python3.10/dist-packages (from openai==0.27.9) (2.31.0)\n",
            "Requirement already satisfied: tqdm in /usr/local/lib/python3.10/dist-packages (from openai==0.27.9) (4.66.1)\n",
            "Requirement already satisfied: aiohttp in /usr/local/lib/python3.10/dist-packages (from openai==0.27.9) (3.8.5)\n",
            "Requirement already satisfied: charset-normalizer<4,>=2 in /usr/local/lib/python3.10/dist-packages (from requests>=2.20->openai==0.27.9) (3.2.0)\n",
            "Requirement already satisfied: idna<4,>=2.5 in /usr/local/lib/python3.10/dist-packages (from requests>=2.20->openai==0.27.9) (3.4)\n",
            "Requirement already satisfied: urllib3<3,>=1.21.1 in /usr/local/lib/python3.10/dist-packages (from requests>=2.20->openai==0.27.9) (2.0.4)\n",
            "Requirement already satisfied: certifi>=2017.4.17 in /usr/local/lib/python3.10/dist-packages (from requests>=2.20->openai==0.27.9) (2023.7.22)\n",
            "Requirement already satisfied: attrs>=17.3.0 in /usr/local/lib/python3.10/dist-packages (from aiohttp->openai==0.27.9) (23.1.0)\n",
            "Requirement already satisfied: multidict<7.0,>=4.5 in /usr/local/lib/python3.10/dist-packages (from aiohttp->openai==0.27.9) (6.0.4)\n",
            "Requirement already satisfied: async-timeout<5.0,>=4.0.0a3 in /usr/local/lib/python3.10/dist-packages (from aiohttp->openai==0.27.9) (4.0.3)\n",
            "Requirement already satisfied: yarl<2.0,>=1.0 in /usr/local/lib/python3.10/dist-packages (from aiohttp->openai==0.27.9) (1.9.2)\n",
            "Requirement already satisfied: frozenlist>=1.1.1 in /usr/local/lib/python3.10/dist-packages (from aiohttp->openai==0.27.9) (1.4.0)\n",
            "Requirement already satisfied: aiosignal>=1.1.2 in /usr/local/lib/python3.10/dist-packages (from aiohttp->openai==0.27.9) (1.3.1)\n"
          ]
        }
      ],
      "source": [
        "!pip install openai==0.27.9"
      ]
    },
    {
      "cell_type": "code",
      "execution_count": 6,
      "metadata": {
        "colab": {
          "base_uri": "https://localhost:8080/"
        },
        "id": "DSm-x0Rr6Sr6",
        "outputId": "c06f7dd6-ef0c-4eb5-de81-70f8cec65b7f"
      },
      "outputs": [
        {
          "name": "stdout",
          "output_type": "stream",
          "text": [
            "Requirement already satisfied: pypdf==3.15.4 in /usr/local/lib/python3.10/dist-packages (3.15.4)\n"
          ]
        }
      ],
      "source": [
        "!pip install pypdf==3.15.4"
      ]
    },
    {
      "cell_type": "code",
      "execution_count": 15,
      "metadata": {
        "id": "Zx9z5gvU20gk"
      },
      "outputs": [],
      "source": [
        "from langchain.document_loaders import PyPDFLoader\n",
        "from langchain.text_splitter import CharacterTextSplitter\n",
        "from langchain.vectorstores import Chroma\n",
        "from langchain.embeddings import OpenAIEmbeddings"
      ]
    },
    {
      "cell_type": "code",
      "execution_count": 16,
      "metadata": {
        "colab": {
          "base_uri": "https://localhost:8080/"
        },
        "id": "JFviPWsL58qA",
        "outputId": "f7a8925f-676e-4e41-b19b-0ae292cc10f1"
      },
      "outputs": [
        {
          "name": "stdout",
          "output_type": "stream",
          "text": [
            "Drive already mounted at /content/drive; to attempt to forcibly remount, call drive.mount(\"/content/drive\", force_remount=True).\n"
          ]
        }
      ],
      "source": [
        "# mount your google drive on Google colab. Choose the account and click on allow.\n",
        "from google.colab import drive\n",
        "drive.mount('/content/drive')"
      ]
    },
    {
      "cell_type": "code",
      "execution_count": 17,
      "metadata": {
        "id": "tDxDGoLz20e0"
      },
      "outputs": [],
      "source": [
        "# Replace 'YOUR_API_KEY' with your actual OpenAI API key\n",
        "import os\n",
        "os.environ['OPENAI_API_KEY'] = 'YOUR_API_KEY'"
      ]
    },
    {
      "cell_type": "code",
      "execution_count": 18,
      "metadata": {
        "colab": {
          "base_uri": "https://localhost:8080/"
        },
        "id": "VewBqL1MhT9Y",
        "outputId": "70dc3d4b-d7d3-4dfe-ffb8-ac4946d1c573"
      },
      "outputs": [
        {
          "name": "stderr",
          "output_type": "stream",
          "text": [
            "WARNING:langchain.text_splitter:Created a chunk of size 134, which is longer than the specified 100\n",
            "WARNING:langchain.text_splitter:Created a chunk of size 130, which is longer than the specified 100\n",
            "WARNING:langchain.text_splitter:Created a chunk of size 139, which is longer than the specified 100\n",
            "WARNING:langchain.text_splitter:Created a chunk of size 139, which is longer than the specified 100\n",
            "WARNING:langchain.text_splitter:Created a chunk of size 115, which is longer than the specified 100\n",
            "WARNING:langchain.text_splitter:Created a chunk of size 132, which is longer than the specified 100\n",
            "WARNING:langchain.text_splitter:Created a chunk of size 137, which is longer than the specified 100\n",
            "WARNING:langchain.text_splitter:Created a chunk of size 129, which is longer than the specified 100\n",
            "WARNING:langchain.text_splitter:Created a chunk of size 119, which is longer than the specified 100\n",
            "WARNING:langchain.text_splitter:Created a chunk of size 141, which is longer than the specified 100\n",
            "WARNING:langchain.text_splitter:Created a chunk of size 130, which is longer than the specified 100\n",
            "WARNING:langchain.text_splitter:Created a chunk of size 129, which is longer than the specified 100\n",
            "WARNING:langchain.text_splitter:Created a chunk of size 131, which is longer than the specified 100\n",
            "WARNING:langchain.text_splitter:Created a chunk of size 133, which is longer than the specified 100\n",
            "WARNING:langchain.text_splitter:Created a chunk of size 128, which is longer than the specified 100\n",
            "WARNING:langchain.text_splitter:Created a chunk of size 130, which is longer than the specified 100\n",
            "WARNING:langchain.text_splitter:Created a chunk of size 134, which is longer than the specified 100\n",
            "WARNING:langchain.text_splitter:Created a chunk of size 135, which is longer than the specified 100\n",
            "WARNING:langchain.text_splitter:Created a chunk of size 130, which is longer than the specified 100\n",
            "WARNING:langchain.text_splitter:Created a chunk of size 121, which is longer than the specified 100\n",
            "WARNING:langchain.text_splitter:Created a chunk of size 138, which is longer than the specified 100\n",
            "WARNING:langchain.text_splitter:Created a chunk of size 138, which is longer than the specified 100\n",
            "WARNING:langchain.text_splitter:Created a chunk of size 127, which is longer than the specified 100\n",
            "WARNING:langchain.text_splitter:Created a chunk of size 130, which is longer than the specified 100\n",
            "WARNING:langchain.text_splitter:Created a chunk of size 132, which is longer than the specified 100\n",
            "WARNING:langchain.text_splitter:Created a chunk of size 129, which is longer than the specified 100\n",
            "WARNING:langchain.text_splitter:Created a chunk of size 140, which is longer than the specified 100\n",
            "WARNING:langchain.text_splitter:Created a chunk of size 127, which is longer than the specified 100\n",
            "WARNING:langchain.text_splitter:Created a chunk of size 124, which is longer than the specified 100\n",
            "WARNING:langchain.text_splitter:Created a chunk of size 134, which is longer than the specified 100\n",
            "WARNING:langchain.text_splitter:Created a chunk of size 130, which is longer than the specified 100\n",
            "WARNING:langchain.text_splitter:Created a chunk of size 134, which is longer than the specified 100\n",
            "WARNING:langchain.text_splitter:Created a chunk of size 135, which is longer than the specified 100\n",
            "WARNING:langchain.text_splitter:Created a chunk of size 128, which is longer than the specified 100\n",
            "WARNING:langchain.text_splitter:Created a chunk of size 128, which is longer than the specified 100\n",
            "WARNING:langchain.text_splitter:Created a chunk of size 132, which is longer than the specified 100\n",
            "WARNING:langchain.text_splitter:Created a chunk of size 133, which is longer than the specified 100\n",
            "WARNING:langchain.text_splitter:Created a chunk of size 125, which is longer than the specified 100\n",
            "WARNING:langchain.text_splitter:Created a chunk of size 124, which is longer than the specified 100\n",
            "WARNING:langchain.text_splitter:Created a chunk of size 128, which is longer than the specified 100\n",
            "WARNING:langchain.text_splitter:Created a chunk of size 125, which is longer than the specified 100\n",
            "WARNING:langchain.text_splitter:Created a chunk of size 125, which is longer than the specified 100\n",
            "WARNING:langchain.text_splitter:Created a chunk of size 124, which is longer than the specified 100\n"
          ]
        }
      ],
      "source": [
        "pdf_file_path = '/content/drive/MyDrive/Demo-pdf-3-idiots.pdf' # mention your path for \"Demo-pdf-3-idiots.pdf\"\n",
        "def get_movie_text_from_pdf(pdf_file_path):\n",
        "  movie_pdf_loader = PyPDFLoader(pdf_file_path)\n",
        "  movie_pdf_documents = movie_pdf_loader.load_and_split() # This line uses the load_and_split method of the PyPDFLoader to load the PDF document and split its content into smaller text chunks or documents.\n",
        "\n",
        "  # using CharacterTextSplitter\n",
        "  movie_pdf_text_splitter = CharacterTextSplitter(separator=\"\\n\", # It uses newline characters to separate the text chunks.\n",
        "                                                  chunk_size=100, # Each text chunk is limited to 100 characters in length.\n",
        "                                                  chunk_overlap=20) # There is a 20-character overlap between adjacent chunks.\n",
        "\n",
        "  movie_pdf_text_data = movie_pdf_text_splitter.split_documents(movie_pdf_documents)\n",
        "  return movie_pdf_text_data\n",
        "\n",
        "movie_pdf_text_data = get_movie_text_from_pdf(pdf_file_path)"
      ]
    },
    {
      "cell_type": "code",
      "execution_count": 20,
      "metadata": {
        "id": "0R7Vpz2j3o_f"
      },
      "outputs": [],
      "source": [
        "def chunk_and_store_movie_data(movie_pdf_text_data):\n",
        "  # creates a vector database using Chroma.\n",
        "  movie_pdf_vectordb = Chroma.from_documents(\n",
        "    movie_pdf_text_data,\n",
        "    embedding=OpenAIEmbeddings(), # using embedding provided by OpenAI to represent the text data(movie_pdf_text_data) as vectors.\n",
        "    persist_directory='./MyDrive' # directory where the vector database(movie_pdf_vectordb) should be persisted or saved.\n",
        "  )\n",
        "\n",
        "  movie_pdf_vectordb.persist()\n",
        "  return movie_pdf_vectordb"
      ]
    },
    {
      "cell_type": "code",
      "execution_count": null,
      "metadata": {},
      "outputs": [],
      "source": [
        "movie_pdf_vectordb = chunk_and_store_movie_data(movie_pdf_text_data)"
      ]
    },
    {
      "cell_type": "code",
      "execution_count": 21,
      "metadata": {
        "id": "V0dgArUy4yRh"
      },
      "outputs": [],
      "source": [
        "from langchain.chat_models import ChatOpenAI\n",
        "from langchain.chains import RetrievalQA"
      ]
    },
    {
      "cell_type": "code",
      "execution_count": 22,
      "metadata": {
        "id": "L-m-3M-P20Q4"
      },
      "outputs": [],
      "source": [
        "movie_pdf_llm = ChatOpenAI(model_name=\"gpt-3.5-turbo\", temperature=0)\n",
        "\n",
        "retriever = movie_pdf_vectordb.as_retriever() # retrieve documents or information from vector database(movie_pdf_vectordb)\n",
        "\n",
        "movie_pdf_chain = RetrievalQA.from_chain_type(llm = movie_pdf_llm,retriever=retriever)"
      ]
    },
    {
      "cell_type": "code",
      "execution_count": 23,
      "metadata": {
        "colab": {
          "base_uri": "https://localhost:8080/"
        },
        "id": "mDdATEJl5SWK",
        "outputId": "3c46cfd6-66e9-4854-a2d5-52a9c84aa271"
      },
      "outputs": [
        {
          "data": {
            "text/plain": [
              "{'query': 'Brief the story of 3-idiots',\n",
              " 'result': \"The story of 3 Idiots revolves around three friends named Rancho, Raju, and Farhan who enroll in an elite engineering college. The film explores their journey as they navigate through the challenges and pressures of college life. Along the way, they encounter the mandatory ragging and learn valuable life lessons that go beyond what can be taught in books. The film is known for its portrayal of the importance of pursuing one's passion and questioning the traditional education system.\"}"
            ]
          },
          "execution_count": 23,
          "metadata": {},
          "output_type": "execute_result"
        }
      ],
      "source": [
        "# write the query describing what you want to ask from the pdf. For example - Here we are asking: 'Brief the story of 3-idiots'\n",
        "movie_pdf_chain({\"query\": \"Brief the story of 3-idiots\"})"
      ]
    }
  ],
  "metadata": {
    "colab": {
      "provenance": []
    },
    "kernelspec": {
      "display_name": "Python 3",
      "name": "python3"
    },
    "language_info": {
      "name": "python"
    }
  },
  "nbformat": 4,
  "nbformat_minor": 0
}
