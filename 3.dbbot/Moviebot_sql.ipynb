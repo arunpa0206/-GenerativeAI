{
  "cells": [
    {
      "cell_type": "code",
      "execution_count": null,
      "metadata": {
        "colab": {
          "base_uri": "https://localhost:8080/"
        },
        "id": "LcxcRiBu5OFM",
        "outputId": "c3465276-50bc-4b88-e128-e19d1dbc68b3"
      },
      "outputs": [],
      "source": [
        "#Installing the required libraries\n",
        "!pip install langchain==0.0.266\n",
        "!pip install openai==0.27.9\n",
        "!pip install pandas==1.5.3\n",
        "!pip install langchain_experimental==0.0.11"
      ]
    },
    {
      "cell_type": "code",
      "execution_count": 24,
      "metadata": {
        "id": "8sdyPfc65Uxo"
      },
      "outputs": [],
      "source": [
        "import pandas as pd\n",
        "import sqlite3\n",
        "from langchain import PromptTemplate\n",
        "from langchain.llms import OpenAI\n",
        "from langchain.utilities import SQLDatabase\n",
        "from langchain_experimental.sql import SQLDatabaseChain"
      ]
    },
    {
      "cell_type": "code",
      "execution_count": 25,
      "metadata": {
        "id": "DuwanYCO5Vc-"
      },
      "outputs": [],
      "source": [
        "# File path of the CSV file\n",
        "file_path = '/Users/arun/Development/generativeai/3.dbbot/3idiots.csv'\n",
        "\n",
        "#creating database\n",
        "\n",
        "# SQLite database file path\n",
        "database_path = 'database.db'\n",
        "\n",
        "def convert_csv_db(csv_path, db_path):\n",
        "\n",
        "    # Create a connection to the SQLite database\n",
        "    connection = sqlite3.connect(db_path)\n",
        "\n",
        "\n",
        "    # Read the CSV files into pandas DataFrames\n",
        "    movie_df = pd.read_csv(csv_path)\n",
        "\n",
        "    # Execute SQL CREATE TABLE statement to create the movie table\n",
        "\n",
        "    create_table_sql = '''\n",
        "    CREATE TABLE IF NOT EXISTS Movie (Actors text, Directed text , Produced text , Cinematographer text , Release_Date text);\n",
        "    '''\n",
        "\n",
        "    # Execute the CREATE TABLE statement\n",
        "    connection.execute(create_table_sql)\n",
        "\n",
        "    # Insert the data from DataFrames into the table\n",
        "    movie_df.to_sql('3idiots', connection, if_exists='append', index=False)\n",
        "\n",
        "    # Commit the changes and close the connection\n",
        "    connection.commit()\n",
        "    connection.close()\n",
        "\n",
        "    return\n",
        "\n",
        "convert_csv_db(file_path, database_path)"
      ]
    },
    {
      "cell_type": "code",
      "execution_count": 30,
      "metadata": {
        "id": "wyV-0ARK7dHK"
      },
      "outputs": [],
      "source": [
        "import os\n",
        "os.environ['OPENAI_API_KEY'] = 'YOUR_API_KEY' #read the API-key from local environment"
      ]
    },
    {
      "cell_type": "code",
      "execution_count": 26,
      "metadata": {
        "id": "SngcYJTp73yf"
      },
      "outputs": [],
      "source": [
        "movie_db = SQLDatabase.from_uri('sqlite:///database.db')\n",
        "english_sql_llm = OpenAI(temperature=0) # here the temperature is set to zero as we do not need any variability\n",
        "movie_sql_chain = SQLDatabaseChain.from_llm(llm = english_sql_llm,\n",
        "                                     db = movie_db,\n",
        "                                     verbose=True)\n",
        "                                     #create a langchain with one node(english_sql_llm)"
      ]
    },
    {
      "cell_type": "code",
      "execution_count": 28,
      "metadata": {
        "colab": {
          "base_uri": "https://localhost:8080/",
          "height": 194
        },
        "id": "qjo0TBFYCpSw",
        "outputId": "a111329d-c9e9-4f9a-9a43-55d88567a6aa"
      },
      "outputs": [
        {
          "name": "stdout",
          "output_type": "stream",
          "text": [
            "\n",
            "\n",
            "\u001b[1m> Entering new SQLDatabaseChain chain...\u001b[0m\n",
            "Who are the actors in this movie\n",
            "SQLQuery:\u001b[32;1m\u001b[1;3mSELECT \"Actors\" FROM \"3idiots\" LIMIT 5;\u001b[0m\n",
            "SQLResult: \u001b[33;1m\u001b[1;3m[('Aamir Khan',), ('R Madhavan',), ('Sharman Joshi',), ('Kareena Kapoor',), ('Boman Irani',)]\u001b[0m\n",
            "Answer:\u001b[32;1m\u001b[1;3mThe actors in this movie are Aamir Khan, R Madhavan, Sharman Joshi, Kareena Kapoor, and Boman Irani.\u001b[0m\n",
            "\u001b[1m> Finished chain.\u001b[0m\n"
          ]
        },
        {
          "data": {
            "text/plain": [
              "'The actors in this movie are Aamir Khan, R Madhavan, Sharman Joshi, Kareena Kapoor, and Boman Irani.'"
            ]
          },
          "execution_count": 28,
          "metadata": {},
          "output_type": "execute_result"
        }
      ],
      "source": [
        "movie_sql_chain.run(\"Who are the actors in this movie\")"
      ]
    },
    {
      "cell_type": "code",
      "execution_count": 29,
      "metadata": {
        "colab": {
          "base_uri": "https://localhost:8080/",
          "height": 174
        },
        "id": "At15qhFGCthJ",
        "outputId": "43fdfa38-9b93-4b48-f1d0-b63dc22ffcd6"
      },
      "outputs": [
        {
          "name": "stdout",
          "output_type": "stream",
          "text": [
            "\n",
            "\n",
            "\u001b[1m> Entering new SQLDatabaseChain chain...\u001b[0m\n",
            "When was the movie released?\n",
            "SQLQuery:\u001b[32;1m\u001b[1;3mSELECT \"Release_Date\" FROM \"3idiots\" LIMIT 5;\u001b[0m\n",
            "SQLResult: \u001b[33;1m\u001b[1;3m[('25-Dec-09',), (None,), (None,), (None,), (None,)]\u001b[0m\n",
            "Answer:\u001b[32;1m\u001b[1;3mThe movie was released on 25-Dec-09.\u001b[0m\n",
            "\u001b[1m> Finished chain.\u001b[0m\n"
          ]
        },
        {
          "data": {
            "text/plain": [
              "'The movie was released on 25-Dec-09.'"
            ]
          },
          "execution_count": 29,
          "metadata": {},
          "output_type": "execute_result"
        }
      ],
      "source": [
        "movie_sql_chain.run(\"When was the movie released?\")"
      ]
    }
  ],
  "metadata": {
    "colab": {
      "provenance": []
    },
    "kernelspec": {
      "display_name": "Python 3",
      "name": "python3"
    },
    "language_info": {
      "codemirror_mode": {
        "name": "ipython",
        "version": 3
      },
      "file_extension": ".py",
      "mimetype": "text/x-python",
      "name": "python",
      "nbconvert_exporter": "python",
      "pygments_lexer": "ipython3",
      "version": "3.9.16"
    }
  },
  "nbformat": 4,
  "nbformat_minor": 0
}
