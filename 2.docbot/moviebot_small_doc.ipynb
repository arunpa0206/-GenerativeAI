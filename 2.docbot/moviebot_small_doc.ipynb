{
  "cells": [
    {
      "cell_type": "code",
      "execution_count": 4,
      "metadata": {
        "colab": {
          "base_uri": "https://localhost:8080/"
        },
        "id": "ZyvFEwsYGbIe",
        "outputId": "40999277-1765-44fe-9ad4-decf40e06909"
      },
      "outputs": [
        {
          "name": "stdout",
          "output_type": "stream",
          "text": [
            "Requirement already satisfied: openai==0.27.9 in c:\\users\\alakh\\appdata\\local\\packages\\pythonsoftwarefoundation.python.3.10_qbz5n2kfra8p0\\localcache\\local-packages\\python310\\site-packages (0.27.9)\n",
            "Requirement already satisfied: requests>=2.20 in c:\\users\\alakh\\appdata\\local\\packages\\pythonsoftwarefoundation.python.3.10_qbz5n2kfra8p0\\localcache\\local-packages\\python310\\site-packages (from openai==0.27.9) (2.28.1)\n",
            "Requirement already satisfied: tqdm in c:\\users\\alakh\\appdata\\local\\packages\\pythonsoftwarefoundation.python.3.10_qbz5n2kfra8p0\\localcache\\local-packages\\python310\\site-packages (from openai==0.27.9) (4.64.0)\n",
            "Requirement already satisfied: aiohttp in c:\\users\\alakh\\appdata\\local\\packages\\pythonsoftwarefoundation.python.3.10_qbz5n2kfra8p0\\localcache\\local-packages\\python310\\site-packages (from openai==0.27.9) (3.8.5)\n",
            "Requirement already satisfied: charset-normalizer<3,>=2 in c:\\users\\alakh\\appdata\\local\\packages\\pythonsoftwarefoundation.python.3.10_qbz5n2kfra8p0\\localcache\\local-packages\\python310\\site-packages (from requests>=2.20->openai==0.27.9) (2.1.1)\n",
            "Requirement already satisfied: idna<4,>=2.5 in c:\\users\\alakh\\appdata\\local\\packages\\pythonsoftwarefoundation.python.3.10_qbz5n2kfra8p0\\localcache\\local-packages\\python310\\site-packages (from requests>=2.20->openai==0.27.9) (3.3)\n",
            "Requirement already satisfied: urllib3<1.27,>=1.21.1 in c:\\users\\alakh\\appdata\\local\\packages\\pythonsoftwarefoundation.python.3.10_qbz5n2kfra8p0\\localcache\\local-packages\\python310\\site-packages (from requests>=2.20->openai==0.27.9) (1.26.12)\n",
            "Requirement already satisfied: certifi>=2017.4.17 in c:\\users\\alakh\\appdata\\local\\packages\\pythonsoftwarefoundation.python.3.10_qbz5n2kfra8p0\\localcache\\local-packages\\python310\\site-packages (from requests>=2.20->openai==0.27.9) (2022.6.15)\n",
            "Requirement already satisfied: attrs>=17.3.0 in c:\\users\\alakh\\appdata\\local\\packages\\pythonsoftwarefoundation.python.3.10_qbz5n2kfra8p0\\localcache\\local-packages\\python310\\site-packages (from aiohttp->openai==0.27.9) (23.1.0)\n",
            "Requirement already satisfied: multidict<7.0,>=4.5 in c:\\users\\alakh\\appdata\\local\\packages\\pythonsoftwarefoundation.python.3.10_qbz5n2kfra8p0\\localcache\\local-packages\\python310\\site-packages (from aiohttp->openai==0.27.9) (6.0.4)\n",
            "Requirement already satisfied: async-timeout<5.0,>=4.0.0a3 in c:\\users\\alakh\\appdata\\local\\packages\\pythonsoftwarefoundation.python.3.10_qbz5n2kfra8p0\\localcache\\local-packages\\python310\\site-packages (from aiohttp->openai==0.27.9) (4.0.3)\n",
            "Requirement already satisfied: yarl<2.0,>=1.0 in c:\\users\\alakh\\appdata\\local\\packages\\pythonsoftwarefoundation.python.3.10_qbz5n2kfra8p0\\localcache\\local-packages\\python310\\site-packages (from aiohttp->openai==0.27.9) (1.9.2)\n",
            "Requirement already satisfied: frozenlist>=1.1.1 in c:\\users\\alakh\\appdata\\local\\packages\\pythonsoftwarefoundation.python.3.10_qbz5n2kfra8p0\\localcache\\local-packages\\python310\\site-packages (from aiohttp->openai==0.27.9) (1.4.0)\n",
            "Requirement already satisfied: aiosignal>=1.1.2 in c:\\users\\alakh\\appdata\\local\\packages\\pythonsoftwarefoundation.python.3.10_qbz5n2kfra8p0\\localcache\\local-packages\\python310\\site-packages (from aiohttp->openai==0.27.9) (1.3.1)\n",
            "Requirement already satisfied: colorama in c:\\users\\alakh\\appdata\\local\\packages\\pythonsoftwarefoundation.python.3.10_qbz5n2kfra8p0\\localcache\\local-packages\\python310\\site-packages (from tqdm->openai==0.27.9) (0.4.6)\n"
          ]
        }
      ],
      "source": [
        "!pip install openai==0.27.9"
      ]
    },
    {
      "cell_type": "code",
      "execution_count": 5,
      "metadata": {},
      "outputs": [
        {
          "name": "stdout",
          "output_type": "stream",
          "text": [
            "Requirement already satisfied: pypdf2==3.0.1 in c:\\users\\alakh\\appdata\\local\\packages\\pythonsoftwarefoundation.python.3.10_qbz5n2kfra8p0\\localcache\\local-packages\\python310\\site-packages (3.0.1)\n"
          ]
        }
      ],
      "source": [
        "!pip install pypdf2==3.0.1"
      ]
    },
    {
      "cell_type": "code",
      "execution_count": 6,
      "metadata": {},
      "outputs": [],
      "source": [
        "# Replace 'YOUR_API_KEY' with your actual OpenAI API key\n",
        "import openai\n",
        "openai.api_key = 'YOUR_API_KEY'"
      ]
    },
    {
      "cell_type": "code",
      "execution_count": 8,
      "metadata": {
        "colab": {
          "base_uri": "https://localhost:8080/"
        },
        "id": "zTV4ajrGGaJl",
        "outputId": "6893d4ac-73bf-4b14-8a8a-b232387882bd"
      },
      "outputs": [],
      "source": [
        "from PyPDF2 import PdfReader\n",
        "\n",
        "pdf_file_path = 'YOUR_PATH' # mention the path for the pdf file - \"Demo-pdf-3-idiots.pdf\"\n",
        "\n",
        "def read_movie_pdf_text(pdf_file_path):\n",
        "    \n",
        "    movie_pdf_reader = PdfReader(pdf_file_path) \n",
        "\n",
        "    # read data from the file line by line\n",
        "    movie_pdf_text = ''\n",
        "    for i, page in enumerate(movie_pdf_reader.pages):\n",
        "        text = page.extract_text()\n",
        "        if text:\n",
        "            movie_pdf_text += text\n",
        "    \n",
        "    return movie_pdf_text"
      ]
    },
    {
      "cell_type": "code",
      "execution_count": 9,
      "metadata": {},
      "outputs": [
        {
          "name": "stdout",
          "output_type": "stream",
          "text": [
            "3 Idiots (review)\n",
            "Story: Rancho, Raju and Farhan enter the elite engineering college, only to learn lessons of life that cannot be taught through books \n",
            "and classrooms. Principal Viru Sahastrabuddhe is no help at all.  \n",
            "Movie Review: Rest assured, all ye desi cinema buffs, Aal Izz Well in apna Bollywood. If 2009 can begin with Dev D and end with 3 \n",
            "Idiots, it is indeed time to sound the seetis and taalis for one of the most exciting years of contemporary Indian cinema. Truly, this has \n",
            "been the year of the I.d.i.o.t in movielore: the Intrinsically intelligent, Downright smart, Inimitable, Original and Talented film maker, \n",
            "actor, story teller, musician, lyricist, dialogue writer and producer.  \n",
            "The three idiots, Rancchoddas Shyamaldas Chanchad (Aamir Khan), Raju Rastogi (Sharman Joshi) and Farhan Qureshi (R \n",
            "Madhavan), are perfect archetypes of the new age Indian who is essentially a non-conformist, questioning outmoded givens, choosing  \n",
            "to live life on his own terms and chartering new roads that consciously skirt the rat race. Of course, they begin on the beaten track -- \n",
            "due to societal/parental pressure -- but refuse to become cogs in the wheel. Naturally, they end up as the Frostian hero (Robert \n",
            "Frost's Road Not Taken) who made all the difference to his life, and the world, by taking the road less travelled by.  \n",
            "The film begins with the entry of our threesome in the city's elite engineering college. It takes the first tryst with the mandatory ragging \n",
            "sessions which enunciate who the leader of the gang is going to be: new entrant Baba Rancchoddas, as his friends fondly call him. \n",
            "Rancho not only leads his friends through the maze of India's competitive, high-pressure, rote-heavy, illogical and almost cruel \n",
            "education system, he tutors them on several life mantras too. Like, running after excellence, not success; questioning not blindly \n",
            "accepting givens; inventing and experimenting in lieu of copying and cramming; and essentially following your heart's calling if you \n",
            "truly want to make a difference.  \n",
            "So, you have the threesome embroiled, time and again, in a confrontation with authority, as represented through the domineering \n",
            "figure of Viru Sahastrabuddhe (Boman Irani), the unsmiling Principal who venerates the cuckoo because the bird's life begins with \n",
            "murder. Kill the competition, because there is only one place at the top, believes the Princi. Poor, mistaken Princi! Doesn't he know \n",
            "that competition is effete, model students like Chatur (Omi) end up as duhs in real life and non-conformists (Rancho and Rocket Singh  \n",
            "Inc), who care tuppence about being on top, could end up as eventual winners. More importantly, they could be high not only in IQ \n",
            "(intelligence quotient) but in EQ (emotional quotient) too, never losing their humaneness and social networking skills.  \n",
            "The high point of the film is the fact that director  Rajkumar Hirani says so much, and more, without losing his sense of humour and the  \n",
            "sheer lightness of being. The film is a laugh riot, despite being high on fundas. Certain sequences almost have you rolling in the aisle, \n",
            "like the ragging sequence, Omi's chamatkar/balatkar speech, the threesome's wedding crasher sequence, their mournful meal with \n",
            "Raju's mournful mum and Rancho's sundry demos to prove how Kareena has chosen the wrong guy for herself. Add to this, the strong  \n",
            "emotional core of the film that makes gentle tugs, now and then, at your guts, and you have an almost perfect score. Hirani carries \n",
            "forward his simplistic `humanism alone works' philosophy of the Lage Raho Munnabhai series in 3 Idiots too, making it a warm and \n",
            "vivacious signature tune to 2009. The second half of the film does falter in parts, specially the child birth sequence, but it doesn't take \n",
            "long for the film to jump back on track.  Amongst the performances,  Aamir Khan is stupendous as the rule-breaker Rancho. But the rest of the cast doesn't remain in the \n",
            "shadows. Both Sharman and  Madhavan manage to carve their independent characters as lovable rebels too. Even Kareena shines \n",
            "out, despite the minuscule length of her role. A special mention for Boman Irani who is impeccable as `Virus', the vile Principal and \n",
            "newcomer Omi who perfectly slips into the stereotype of the best, albeit bakwas student. Shantanu Moitra's music score, which may \n",
            "have sounded pheeka in the audio version, comes alive on screen with lyricist Swanand Kirkire giving India its clarion call for 2010: \n",
            "Aal Izz Well. Rush for it. \n",
            "A word about: \n",
            "Performances: Believe it or not, but Aamir, Madhavan and Sharman actually look -- and behave -- like students. While Aamir pitches in  \n",
            "a near-perfect portrayal of Rancho, the free-spirited innovator, Madhavan and Sharman are perfectly in sync too. Kareena as the \n",
            "independent-minded medical student is winsome; debutant Omi has a refreshing flair for comedy and Boman Irani doesn't ham or go \n",
            "over the top even once.      \n",
            "Story: Rajkumar Hirani and Abhijat Joshi script a warm and humanist indictment of India's rude-crude education system that prepares \n",
            "rats for a rat race rather than thinkers for a new world.  \n",
            "Dialogue: Witty and wild, the film walks away with the best comic scene of the year citation with its uproarious `balatkar' speech.  \n",
            "Music: Shantanu Moitra may not have forced you to pick up the music album of the film but the songs do come alive on screen, \n",
            "specially Zoobie-Doobie and Aal Izz Well.  \n",
            "Choreography: Avit Diaz has the threesome -- Aamir, Madhavan, Sharman -- kick up some wild fun in Aal Izz Well, while Bosco-\n",
            "Caesar rightly go retro with Zoobie-Doobie.  \n",
            "Cinematography: The streets of Delhi and the picture postcard beauty of Ladakh are captured in riveting images by Muraleedharan \n",
            "CK \n",
            "Styling: Designers Manish Mehrotra, Sheena Parekh and Raghuveer Shetty create the pucca campus look for our rumbustious kids \n",
            "on the block, complete with ganjis and capris. Kareena too is an archetypal Dilli gal with her trendy, not flashy ensemble.  \n",
            "Inspiration: Chetan Bhagat's Five Point Someone literally comes alive on screen, although the film does not kowtow the book \n",
            "verbatim.\n"
          ]
        }
      ],
      "source": [
        "movie_pdf_text = read_movie_pdf_text(pdf_file_path)"
      ]
    },
    {
      "cell_type": "code",
      "execution_count": 10,
      "metadata": {},
      "outputs": [
        {
          "name": "stdout",
          "output_type": "stream",
          "text": [
            "Verdict: Aal Izz Well. Rush for it.\n"
          ]
        }
      ],
      "source": [
        "# write the prompt which you want to ask from the pdf. For example - Here we are using: 'Brief the story of 3-idiots from'\n",
        "prompt = f\"Brief the story of 3-idiots from:\\n\\n{movie_pdf_text}\"\n",
        "\n",
        "# Call the OpenAI API to generate a response\n",
        "response = openai.Completion.create(\n",
        "        engine=\"text-davinci-003\",\n",
        "        prompt=prompt,\n",
        "        max_tokens=256, # sets the maximum number of tokens for the response, You can adjust this value based on your desired output length\n",
        "        temperature=0.1 # you can adjust this value within the range of 0 to 1; controls the diversity of the generated response.\n",
        "        # Lower temperature results in more predictable response, while higher temperature results in more variable response.\n",
        "    )\n",
        "\n",
        "# Extract and print the generated result\n",
        "result = response.choices[0].text.strip()\n",
        "print(result)"
      ]
    }
  ],
  "metadata": {
    "colab": {
      "provenance": []
    },
    "gpuClass": "standard",
    "kernelspec": {
      "display_name": "Python 3",
      "name": "python3"
    },
    "language_info": {
      "codemirror_mode": {
        "name": "ipython",
        "version": 3
      },
      "file_extension": ".py",
      "mimetype": "text/x-python",
      "name": "python",
      "nbconvert_exporter": "python",
      "pygments_lexer": "ipython3",
      "version": "3.10.11"
    }
  },
  "nbformat": 4,
  "nbformat_minor": 0
}
